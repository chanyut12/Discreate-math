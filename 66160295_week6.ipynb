{
  "nbformat": 4,
  "nbformat_minor": 0,
  "metadata": {
    "colab": {
      "provenance": [],
      "include_colab_link": true
    },
    "kernelspec": {
      "name": "python3",
      "display_name": "Python 3"
    },
    "language_info": {
      "name": "python"
    }
  },
  "cells": [
    {
      "cell_type": "markdown",
      "metadata": {
        "id": "view-in-github",
        "colab_type": "text"
      },
      "source": [
        "<a href=\"https://colab.research.google.com/github/chanyut12/Discreate-math/blob/main/66160295_week6.ipynb\" target=\"_parent\"><img src=\"https://colab.research.google.com/assets/colab-badge.svg\" alt=\"Open In Colab\"/></a>"
      ]
    },
    {
      "cell_type": "markdown",
      "metadata": {
        "id": "dY_MiPmdi8yx"
      },
      "source": [
        "ให้นิสิต เลือกเมนู **File-->Save a copy in drive** เพื่อคัดลอกไฟล์ไปไว้ในไดร์ฟของนิสิตก่อน\n",
        "และเปลี่ยนชื่อไฟล์เป็น **รหัสนิสิต_Week6** ค่ะ\n",
        "\n",
        "\n",
        "1.\tจงเขียนโปรแกรมสร้างเซตของเลขจำนวนเต็ม A, B, C ตามเงื่อนไขและอยู่ในช่วงตัวเลขขอบบน และขอบล่างที่ผู้ใช้กำหนด โดยให้รับค่าเริ่มต้น(Lower) และ ค่าสิ้นสุด(Upper) จากผู้ใช้ผ่านหน้าจอ จากนั้นทำการสร้าง\n",
        "\n",
        "เซต A มีสมาชิกเป็นจำนวนเต็มคู่ ที่มีค่าอยู่ภายในช่วงของค่าเริ่มต้น-ค่าสิ้นสุดที่ผู้ใช้กำหนด\n",
        "\n",
        "เซต B มีสมาชิกเป็นจำนวนที่หารด้วย 3 ลงตัว ที่มีค่าอยู่ภายในช่วงของค่าเริ่มต้น-ค่าสิ้นสุดที่ผู้ใช้กำหนด\n",
        "\n",
        "เซต C มีสมาชิกเป็นจำนวนที่หารด้วย 7 ลงตัว ที่มีค่าอยู่ภายในช่วงของค่าเริ่มต้น-ค่าสิ้นสุดที่ผู้ใช้กำหนด\n",
        "\n",
        "ตัวอย่าง เช่น ผู้ใช้ให้ค่าเริ่มต้น = 4 ค่าสิ้นสุด = 15 จะได้เซต\n",
        "A = {4, 6, 8, 10, 12, 14}, B = {6,9,12,15}, C = {7,14}\n",
        "\n",
        "1.1\tจงหาผลลัพธ์ของ (A$\\cup$B)$\\cap$C\n",
        "\n",
        "1.2\tจงตรวจสอบว่า A$\\supseteq$C หรือไม่ ถ้าเป็นแสดงข้อความ A is a superset of C\n",
        "\n",
        "1.3\tจงตรวจสอบว่า C$\\subset$B หรือไม่ ถ้าเป็นแสดงข้อความ C is a proper subset of B\n",
        "\n",
        "1.4\tจงตรวจสอบว่า A มีสมาชิกต่างกันทั้งหมดกับ B หรือไม่ ถ้าต่างกันทั้งหมดให้แสดงข้อความ A and B are disjoint\n",
        "\n",
        "1.5\tจงหาผลลัพธ์ของ A-C และ C-A และตรวจสอบว่า A-C เท่ากับ C-A หรือไม่ ถ้าเท่าให้แสดงข้อความ A-C is equal to C-A ถ้าไม่เท่าให้แสดงข้อความ A-C is not equal to C-A\n",
        "\n",
        "1.6 จงหาผลคูณคาร์ทีเซียนของ B$\\times$C และ C$\\times$B พร้อมทั้งนับจำนวนสมาชิก และตรวจสอบว่า $\\mid$B$\\times$C$\\mid$ เท่ากับ $\\mid$C$\\times$B$\\mid$ หรือไม่ ถ้าเท่าให้แสดงข้อความ Equal ถ้าไม่เท่าให้แสดงข้อความ Not equal\n",
        "\n",
        "2.\tกำหนดให้เซต D เป็นเซตว่าง จงเขียนโปรแกรมเพิ่มสมาชิกเข้าไปในเซต D อีก 4 จำนวน โดยทำการรับค่าจำนวนเต็มจากผู้ใช้ผ่านหน้าจอโดยใช้คำสั่ง for เพื่อ รับค่าจากผู้ใช้ 4 รอบ และแสดงค่าของเซต D ที่ได้ออกทางหน้าจอ\n",
        "\n",
        "2.1 เขียนโปรแกรมสร้างเซต E ซึ่งเป็นเซตของจำนวนเต็มที่มีค่าอยู่ในช่วง 4 ถึง 14 และแสดงค่าของเซต E ที่ได้ออกทางหน้าจอ\n",
        "\n",
        "2.2 จงหาผลลัพธ์ของ D $\\oplus$ E และแสดงผลที่ได้ออกทางหน้าจอ\n",
        "\n",
        "2.3 จงหาผลลัพธ์ของ (E$\\cup$D) - (D$\\cap$E) และแสดงผลที่ได้ออกทางหน้าจอ\n",
        "\n",
        "2.4 จงเขียนโปรแกรมเพื่อสร้างแผนภาพเวนน์ของเซต D และเซต E แสดงผลที่ได้ออกทางหน้าจอ\n",
        "\n",
        "3.\tจงเขียนโปรแกรมเพื่อสร้างแผนภาพเวนน์ ดังตัวอย่าง โดยให้นิสิตกำหนดสมาชิกภายใน เซต A เซต B และเซต C ด้วยตนเอง\n",
        "\n",
        "3.1 [แผนภาพเวนน์ของ 2 เซต](https://drive.google.com/file/d/1Uj8IsPzBCvPfMD0f0ne4s4IUhASKEH-9/view?usp=sharing)\n",
        "\n",
        "3.2 [แผนภาพเวนน์ของ 3 เซต](https://drive.google.com/file/d/1ONxfVGqxR5ECcvRXc2ikAQdZYSzBPS8X/view?usp=sharing)\n",
        "\n"
      ]
    },
    {
      "cell_type": "code",
      "execution_count": null,
      "metadata": {
        "id": "Wfdq-7lrQvyP"
      },
      "outputs": [],
      "source": [
        "#ชื่อ....................รหัส..........."
      ]
    },
    {
      "cell_type": "code",
      "source": [
        "'''1.จงเขียนโปรแกรมสร้างเซตของเลขจำนวนเต็ม A, B, C ตามเงื่อนไขและอยู่ในช่วงตัวเลขขอบบน และขอบล่างที่ผู้ใช้กำหนด โดยให้รับค่าเริ่มต้น(Lower) และ ค่าสิ้นสุด(Upper) จากผู้ใช้ผ่านหน้าจอ จากนั้นทำการสร้าง\n",
        "เซต A มีสมาชิกเป็นจำนวนเต็มคู่ ที่มีค่าอยู่ภายในช่วงของค่าเริ่มต้น-ค่าสิ้นสุดที่ผู้ใช้กำหนด\n",
        "\n",
        "เซต B มีสมาชิกเป็นจำนวนที่หารด้วย 3 ลงตัว ที่มีค่าอยู่ภายในช่วงของค่าเริ่มต้น-ค่าสิ้นสุดที่ผู้ใช้กำหนด\n",
        "\n",
        "เซต C มีสมาชิกเป็นจำนวนที่หารด้วย 7 ลงตัว ที่มีค่าอยู่ภายในช่วงของค่าเริ่มต้น-ค่าสิ้นสุดที่ผู้ใช้กำหนด\n",
        "\n",
        "ตัวอย่าง เช่น ผู้ใช้ให้ค่าเริ่มต้น = 4 ค่าสิ้นสุด = 15 จะได้เซต A = {4, 6, 8, 10, 12, 14}, B = {6,9,12,15}, C = {7,14}\n",
        "'''\n",
        "#ผู้ใช้ให้ค่าเริ่มต้น = 4 ค่าสิ้นสุด = 15 จะได้เซต A = {4, 6, 8, 10, 12, 14}, B = {6,9,12,15}, C = {7,14}\n",
        "\n",
        "Lower = int(input(\"Lower = \"))\n",
        "Upper = int(input(\"Upper = \"))\n",
        "A = set()\n",
        "B = set()\n",
        "C = set()\n",
        "for i in range(Lower,Upper+1):\n",
        "  if i%2==0:\n",
        "    A.add(i)\n",
        "print(\"set A :\",A)\n",
        "for j in range(Lower,Upper+1):\n",
        "  if j%3==0:\n",
        "    B.add(j)\n",
        "print(\"set B :\",B)\n",
        "for k in range(Lower,Upper+1):\n",
        "  if k%7==0:\n",
        "    C.add(k)\n",
        "print(\"set C :\",C)"
      ],
      "metadata": {
        "colab": {
          "base_uri": "https://localhost:8080/"
        },
        "id": "frRbOWfEaQr0",
        "outputId": "6321c2df-6649-45f2-e74f-67f29d4415df"
      },
      "execution_count": null,
      "outputs": [
        {
          "output_type": "stream",
          "name": "stdout",
          "text": [
            "Lower = 4\n",
            "Upper = 15\n",
            "set A : {4, 6, 8, 10, 12, 14}\n",
            "set B : {9, 12, 6, 15}\n",
            "set C : {14, 7}\n"
          ]
        }
      ]
    },
    {
      "cell_type": "code",
      "source": [
        "#1.1 จงหาผลลัพธ์ของ (A ∪ B) ∩ C\n",
        "print(\"(A U B) ∩ C = \",(A|B)&C)"
      ],
      "metadata": {
        "colab": {
          "base_uri": "https://localhost:8080/"
        },
        "id": "y5j9lXxncn5E",
        "outputId": "7201c265-dc68-41d4-f24f-3e6c4da005ab"
      },
      "execution_count": null,
      "outputs": [
        {
          "output_type": "stream",
          "name": "stdout",
          "text": [
            "(A U B) ∩ C =  {14}\n"
          ]
        }
      ]
    },
    {
      "cell_type": "code",
      "source": [
        "#1.2 จงตรวจสอบว่า A ⊇ C หรือไม่ ถ้าเป็นแสดงข้อความ A is a superset of C\n",
        "print(\"A is superset of C :\",A.issuperset(C))"
      ],
      "metadata": {
        "colab": {
          "base_uri": "https://localhost:8080/"
        },
        "id": "ycj4GBvddEai",
        "outputId": "4bc5d2dc-0730-4055-e72d-6ac0d038f7f3"
      },
      "execution_count": null,
      "outputs": [
        {
          "output_type": "stream",
          "name": "stdout",
          "text": [
            "A is superset of C : False\n"
          ]
        }
      ]
    },
    {
      "cell_type": "code",
      "source": [
        "#1.3 จงตรวจสอบว่า C ⊂ B หรือไม่ ถ้าเป็นแสดงข้อความ C is a proper subset of B\n",
        "print(\"C is proper subset of B :\",C.issubset(B))"
      ],
      "metadata": {
        "colab": {
          "base_uri": "https://localhost:8080/"
        },
        "id": "Z9dLQmJbde4L",
        "outputId": "1a3fee9e-dd16-46b5-ca9a-1cced1247b08"
      },
      "execution_count": null,
      "outputs": [
        {
          "output_type": "stream",
          "name": "stdout",
          "text": [
            "C is proper subset of B : False\n"
          ]
        }
      ]
    },
    {
      "cell_type": "code",
      "source": [
        "#1.4 จงตรวจสอบว่า A มีสมาชิกต่างกันทั้งหมดกับ B หรือไม่ ถ้าต่างกันทั้งหมดให้แสดงข้อความ A and B are disjoint\n",
        "print(\"A and B are disjoint : \",A.isdisjoint(B))"
      ],
      "metadata": {
        "colab": {
          "base_uri": "https://localhost:8080/"
        },
        "id": "5KCyjzZ0dzIK",
        "outputId": "96418471-6a29-4062-b019-065040a950da"
      },
      "execution_count": null,
      "outputs": [
        {
          "output_type": "stream",
          "name": "stdout",
          "text": [
            "A and B are disjoint :  False\n"
          ]
        }
      ]
    },
    {
      "cell_type": "code",
      "source": [
        "#1.5 จงหาผลลัพธ์ของ A-C และ C-A และตรวจสอบว่า A-C เท่ากับ C-A หรือไม่ ถ้าเท่าให้แสดงข้อความ A-C is equal to C-A ถ้าไม่เท่าให้แสดงข้อความ A-C is not equal to C-A\n",
        "print(\"A-C = C-A :\", A-C == C-A)"
      ],
      "metadata": {
        "colab": {
          "base_uri": "https://localhost:8080/"
        },
        "id": "AtgqSEJPekn0",
        "outputId": "278b30a7-30e3-4c06-b0fb-a394dc90e4dd"
      },
      "execution_count": null,
      "outputs": [
        {
          "output_type": "stream",
          "name": "stdout",
          "text": [
            "A-C = C-A : False\n"
          ]
        }
      ]
    },
    {
      "cell_type": "code",
      "source": [
        "#1.6 จงหาผลคูณคาร์ทีเซียนของ B × C และ C × B พร้อมทั้งนับจำนวนสมาชิก และตรวจสอบว่า  ∣ B × C ∣  เท่ากับ  ∣ C × B ∣  หรือไม่ ถ้าเท่าให้แสดงข้อความ Equal ถ้าไม่เท่าให้แสดงข้อความ Not equal\n",
        "import itertools\n",
        "BXC = set(itertools.product(B,C)) # AxB\n",
        "print(BXC)\n",
        "print(len(BXC))\n",
        "CXB = set(itertools.product(C,B)) # AxB\n",
        "print(CXB)\n",
        "print(len(CXB))\n",
        "print(\"|BXC| = |CXB| :\", len(BXC) == len(CXB))"
      ],
      "metadata": {
        "colab": {
          "base_uri": "https://localhost:8080/"
        },
        "id": "kq_09VMtgLfM",
        "outputId": "20100ee6-ce35-41d2-bdce-b25b8ece5af3"
      },
      "execution_count": null,
      "outputs": [
        {
          "output_type": "stream",
          "name": "stdout",
          "text": [
            "{(12, 7), (15, 14), (6, 14), (15, 7), (6, 7), (9, 14), (9, 7), (12, 14)}\n",
            "8\n",
            "{(14, 6), (7, 9), (7, 6), (14, 9), (7, 12), (7, 15), (14, 12), (14, 15)}\n",
            "8\n",
            "|BXC| = |CXB| : True\n"
          ]
        }
      ]
    },
    {
      "cell_type": "code",
      "source": [
        "#2.กำหนดให้เซต D เป็นเซตว่าง จงเขียนโปรแกรมเพิ่มสมาชิกเข้าไปในเซต D อีก 4 จำนวน\n",
        "#โดยทำการรับค่าจำนวนเต็มจากผู้ใช้ผ่านหน้าจอโดยใช้คำสั่ง for เพื่อ รับค่าจากผู้ใช้ 4 รอบ และแสดงค่าของเซต D ที่ได้ออกทางหน้าจอ"
      ],
      "metadata": {
        "id": "z8wAZT1KhMC7"
      },
      "execution_count": null,
      "outputs": []
    },
    {
      "cell_type": "code",
      "source": [
        "D = set()\n",
        "for i in range(4):\n",
        "  a = int(input())\n",
        "  D.add(a)\n",
        "print(\"D :\",D)"
      ],
      "metadata": {
        "colab": {
          "base_uri": "https://localhost:8080/"
        },
        "id": "oILdUuKzhWgr",
        "outputId": "f00887fc-733a-47e9-e7d8-af866887ff6b"
      },
      "execution_count": null,
      "outputs": [
        {
          "output_type": "stream",
          "name": "stdout",
          "text": [
            "12\n",
            "23\n",
            "45\n",
            "56\n",
            "D : {56, 12, 45, 23}\n"
          ]
        }
      ]
    },
    {
      "cell_type": "code",
      "source": [
        "#2.1 เขียนโปรแกรมสร้างเซต E ซึ่งเป็นเซตของจำนวนเต็มที่มีค่าอยู่ในช่วง 4 ถึง 14 และแสดงค่าของเซต E ที่ได้ออกทางหน้าจอ\n",
        "E = set()\n",
        "L = int(input())\n",
        "U = int(input())\n",
        "for i in range(L,U+1):\n",
        "  E.add(i)\n",
        "print(\"E :\",E)"
      ],
      "metadata": {
        "colab": {
          "base_uri": "https://localhost:8080/"
        },
        "id": "TyHawAv6iGcT",
        "outputId": "a059521b-f38a-48ad-a9b9-e8f72a653fda"
      },
      "execution_count": null,
      "outputs": [
        {
          "output_type": "stream",
          "name": "stdout",
          "text": [
            "4\n",
            "14\n",
            "E : {4, 5, 6, 7, 8, 9, 10, 11, 12, 13, 14}\n"
          ]
        }
      ]
    },
    {
      "cell_type": "code",
      "source": [
        "#2.2 จงหาผลลัพธ์ของ D  ⊕  E และแสดงผลที่ได้ออกทางหน้าจอ\n",
        "print(D.symmetric_difference(E))"
      ],
      "metadata": {
        "colab": {
          "base_uri": "https://localhost:8080/"
        },
        "id": "A7EGyx__izoE",
        "outputId": "4ac60be7-6fb0-4bc9-98a9-b370f4ac2cb8"
      },
      "execution_count": null,
      "outputs": [
        {
          "output_type": "stream",
          "name": "stdout",
          "text": [
            "{4, 5, 6, 7, 8, 9, 10, 11, 13, 14, 45, 23, 56}\n"
          ]
        }
      ]
    },
    {
      "cell_type": "code",
      "source": [
        "#2.3 จงหาผลลัพธ์ของ (E ∪ D) - (D ∩ E) และแสดงผลที่ได้ออกทางหน้าจอ\n",
        "print(\"(E ∪ D) - (D ∩ E) : \",(E|D) - (D&E))"
      ],
      "metadata": {
        "colab": {
          "base_uri": "https://localhost:8080/"
        },
        "id": "jHCzC9NmjXpz",
        "outputId": "eca106dc-e885-4a5a-e9bf-ad8f8f33bf0e"
      },
      "execution_count": null,
      "outputs": [
        {
          "output_type": "stream",
          "name": "stdout",
          "text": [
            "(E ∪ D) - (D ∩ E) :  {4, 5, 6, 7, 8, 9, 10, 11, 13, 14, 45, 23, 56}\n"
          ]
        }
      ]
    },
    {
      "cell_type": "code",
      "source": [
        "#2.4 จงเขียนโปรแกรมเพื่อสร้างแผนภาพเวนน์ของเซต D และเซต E แสดงผลที่ได้ออกทางหน้าจอ\n",
        "from matplotlib_venn import venn2\n",
        "from matplotlib import pyplot as plt\n",
        "venn2(subsets=(D, E), set_labels = ('D', 'E'))\n",
        "plt.show()"
      ],
      "metadata": {
        "colab": {
          "base_uri": "https://localhost:8080/",
          "height": 406
        },
        "id": "oFJvgjEplQVj",
        "outputId": "fc008ce6-eaef-4759-cd09-a94b35c02890"
      },
      "execution_count": null,
      "outputs": [
        {
          "output_type": "display_data",
          "data": {
            "text/plain": [
              "<Figure size 640x480 with 1 Axes>"
            ],
            "image/png": "[encoded data removed]"
          },
          "metadata": {}
        }
      ]
    },
    {
      "cell_type": "markdown",
      "source": [
        "<h1>ข้อ 3 (3.1)</h1>"
      ],
      "metadata": {
        "id": "urpg41IVmCKT"
      }
    },
    {
      "cell_type": "code",
      "source": [
        "#3.จงเขียนโปรแกรมเพื่อสร้างแผนภาพเวนน์ ดังตัวอย่าง โดยให้นิสิตกำหนดสมาชิกภายใน เซต A เซต B และเซต C ด้วยตนเอง\n",
        "#3.1แผนภาพเวนน์ของ 2 เซต\n",
        "A_={1,2,3,4,5}\n",
        "B_={1,2,6,7,8}\n",
        "venn2(subsets=(A_, B_), set_labels = ('A_', 'B_'))\n",
        "plt.show()"
      ],
      "metadata": {
        "colab": {
          "base_uri": "https://localhost:8080/",
          "height": 390
        },
        "id": "FeA-0wrjloEb",
        "outputId": "42c226e6-29f6-4489-a81d-73134cd35c24"
      },
      "execution_count": null,
      "outputs": [
        {
          "output_type": "display_data",
          "data": {
            "text/plain": [
              "<Figure size 640x480 with 1 Axes>"
            ],
            "image/png": "[encoded data removed]"
          },
          "metadata": {}
        }
      ]
    },
    {
      "cell_type": "markdown",
      "source": [
        "<h1>ช้อ 3.2</h1>"
      ],
      "metadata": {
        "id": "r8jnh0P2mTM6"
      }
    },
    {
      "cell_type": "code",
      "source": [
        "#แผนภาพเวนน์ของ 3 เซต\n",
        "from matplotlib_venn import venn3\n",
        "from matplotlib import pyplot as plt\n",
        "venn3(subsets=(A_, B_, C), set_labels = ('A_', 'B_', 'C'))\n",
        "plt.show()"
      ],
      "metadata": {
        "colab": {
          "base_uri": "https://localhost:8080/",
          "height": 342
        },
        "id": "DQfU3kISmMNT",
        "outputId": "456417df-1151-4a3b-99f4-cba0ba788308"
      },
      "execution_count": null,
      "outputs": [
        {
          "output_type": "display_data",
          "data": {
            "text/plain": [
              "<Figure size 640x480 with 1 Axes>"
            ],
            "image/png": "[encoded data removed]"
          },
          "metadata": {}
        }
      ]
    }
  ]
}