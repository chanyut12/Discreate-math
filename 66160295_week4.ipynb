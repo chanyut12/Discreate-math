{
  "nbformat": 4,
  "nbformat_minor": 0,
  "metadata": {
    "colab": {
      "provenance": []
    },
    "kernelspec": {
      "name": "python3",
      "display_name": "Python 3"
    },
    "language_info": {
      "name": "python"
    }
  },
  "cells": [
    {
      "cell_type": "markdown",
      "metadata": {
        "id": "xl1W9gMiDaTO"
      },
      "source": [
        "**ให้นิสิต เลือกเมนู File-->Save a copy in drive เพื่อคัดลอกไฟล์ไปไว้ในไดร์ฟของนิสิตก่อน และเปลี่ยนชื่อไฟล์เป็น รหัสนิสิต_week4.ipynb ก่อนส่งงานค่ะ**\n",
        "\n",
        "จงเขียนโปรแกรม เพื่อตอบคำถามต่อไปนี้\n",
        "\n",
        "1.\tจงหา gcd(1116, 1736) = ?\n",
        "\n",
        "2.\tจงหาค่าของ lcm(86, 42) = ?\n",
        "\n",
        "3.\tจงตรวจสอบว่า a $\\equiv$ b  (mod m) หรือไม่ ถ้าคอนกรูเอนซ์แสดงข้อความ \"True\" ถ้าไม่คอนกรูเอนซ์แสดงข้อความ \"False\" โดยรับค่า a , b และ m จากผู้ใช้ผ่านหน้าจอ\n",
        "\n",
        "4. จงแสดงค่าของตัวแปร b ซึ่งมีค่าอยู่ในช่วงขอบล่าง-ขอบบนที่ผู้ใช้กำหนด โดยที่ a $\\equiv$ b (mod 24) โดยรับค่าขอบล่าง ค่าขอบบน และ ค่า a จากผู้ใช้ผ่านหน้าจอ\n",
        "\n",
        "5.\tจงสร้างเลขสุ่มเทียม 6 จำนวน โดยใช้ :\t\tx<sub>n+1</sub> = (ax<sub>n</sub> + c) mod 23\n",
        "โดยรับค่า x<sub>0</sub> , ค่า a และค่า c จากผู้ใช้ผ่านหน้าจอ  \n",
        "\n",
        "\n",
        "6.\tจงตรวจสอบว่า 25 และ 48 เป็นจำนวนเฉพาะสัมพัทธ์หรือไม่\n",
        "\n",
        "7.\tจงตรวจสอบว่าชุดตัวเลข 17, 80, 19, 49 , 57, 13 เป็นจำนวนเฉพาะสัมพัทธ์เป็นคู่หรือไม่\n",
        "\n",
        "8. จงเข้ารหัสข้อความ “Faculty of Informatics” แสดงผลลัพธ์ และถอดรหัสข้อความที่เข้ารหัสได้ เพื่อตรวจสอบว่าถูกต้องตรงกับข้อความต้นฉบับหรือไม่\n",
        "เมื่อกำหนดให้ฟังก์ชันที่ใช้ในการเข้ารหัส คือ\n",
        "f (a) = (a+s) mod m\n",
        "เมื่อ\n",
        "\n",
        "a คือตำแหน่งอักษรในข้อความต้นฉบับ\n",
        "\n",
        "s คือจำนวนตำแหน่งที่ต้องการเลื่อนไปจากตำแหน่งเดิม\n",
        "\n",
        "m คือจำนวนตัวอักษรภาษาอังกฤษทั้งหมด\n",
        "\n",
        "9. ทดลองใช้โปรแกรมในข้อ 8. เข้ารหัสข้อความ “Hi! what's up man ?” แสดงผลลัพธ์ และถอดรหัสข้อความที่เข้ารหัสได้ เพื่อตรวจสอบว่าถูกต้องตรงกับข้อความต้นฉบับหรือไม่\n"
      ]
    },
    {
      "cell_type": "code",
      "source": [
        "#=ชื่อ................................รหัส..............\n"
      ],
      "metadata": {
        "id": "8AR74N-JCqZg"
      },
      "execution_count": null,
      "outputs": []
    },
    {
      "cell_type": "code",
      "source": [
        "#Find gcd(a,b)\n",
        "a = int(input(\"Enter a : \"))\n",
        "b = int(input(\"Enter b : \"))\n",
        "while b>0:\n",
        "  print('a = ', a, ' b = ', b, ' r = ', a%b)\n",
        "  a, b = b, a % b\n",
        "print('gcd(a,b) = ',a)"
      ],
      "metadata": {
        "colab": {
          "base_uri": "https://localhost:8080/"
        },
        "id": "90I_Hs5ENvWx",
        "outputId": "f52baa51-c9e9-4837-ffe2-b5f5980e65e2"
      },
      "execution_count": 4,
      "outputs": [
        {
          "output_type": "stream",
          "name": "stdout",
          "text": [
            "Enter a : 6\n",
            "Enter b : 12\n",
            "a =  6  b =  12  r =  6\n",
            "a =  12  b =  6  r =  0\n",
            "gcd(a,b) =  6\n"
          ]
        }
      ]
    },
    {
      "cell_type": "code",
      "source": [
        "#ข้อ 1\n",
        "from math import gcd,lcm\n",
        "a= int(input('Enter a :'))\n",
        "b= int(input('Enter b :'))\n",
        "print('gcd(a,b) =',gcd(a,b))"
      ],
      "metadata": {
        "colab": {
          "base_uri": "https://localhost:8080/"
        },
        "id": "L7kniqrKPHAY",
        "outputId": "2cb5c9d8-a0bf-4109-a2a4-6c7a01871fd0"
      },
      "execution_count": 6,
      "outputs": [
        {
          "output_type": "stream",
          "name": "stdout",
          "text": [
            "Enter a :1116\n",
            "Enter b :1736\n",
            "gcd(a,b) = 124\n"
          ]
        }
      ]
    },
    {
      "cell_type": "code",
      "source": [
        "#ข้อ 2\n",
        "from math import gcd,lcm\n",
        "a= int(input('Enter a :'))\n",
        "b= int(input('Enter b :'))\n",
        "print(\"lcm(a,b) =\",lcm(a,b))"
      ],
      "metadata": {
        "colab": {
          "base_uri": "https://localhost:8080/"
        },
        "id": "sWE6-J7nPcQQ",
        "outputId": "f54c4f77-edce-42b5-b24b-2474171cbc84"
      },
      "execution_count": 7,
      "outputs": [
        {
          "output_type": "stream",
          "name": "stdout",
          "text": [
            "Enter a :86\n",
            "Enter b :42\n",
            "lcm(a,b) = 1806\n"
          ]
        }
      ]
    },
    {
      "cell_type": "code",
      "source": [
        "#ข้อ 3\n",
        "print('Check that \"a congruence b (mod m)\"')\n",
        "a = int(input(\"Enter a number of a: \"))\n",
        "b = int(input(\"Enter a number of b: \"))\n",
        "m = int(input(\"Enter a number of m: \"))\n",
        "if (m > 0):\n",
        "  if ((a-b)% m) == 0:\n",
        "    print('True')\n",
        "  else:\n",
        "    print('False')"
      ],
      "metadata": {
        "colab": {
          "base_uri": "https://localhost:8080/"
        },
        "id": "WAPI6XRvKumx",
        "outputId": "4dafa6f2-9a75-46ca-f3c4-5946d7d0b006"
      },
      "execution_count": 1,
      "outputs": [
        {
          "output_type": "stream",
          "name": "stdout",
          "text": [
            "Check that \"a congruence b (mod m)\"\n",
            "Enter a number of a: 100\n",
            "Enter a number of b: 1\n",
            "Enter a number of m: 7\n",
            "False\n"
          ]
        }
      ]
    },
    {
      "cell_type": "code",
      "source": [
        "#ข้อ4\n",
        "lower = int(input(\"Enter a number of lower : \"))\n",
        "upper = int(input(\"Enter a number of upper : \"))\n",
        "a = int(input(\"Enter a number of a : \"))\n",
        "m = 24\n",
        "print('Numbers of a that a congruence ',b,'( mod',m,')')\n",
        "for a in range(lower,upper+1):\n",
        "  if (m > 0):\n",
        "    if ((a-b)% m) == 0:\n",
        "      print(a,' congruence ',b,'( mod   ',m,')')"
      ],
      "metadata": {
        "colab": {
          "base_uri": "https://localhost:8080/"
        },
        "id": "_ia4Ac7PMdyJ",
        "outputId": "5e3f304c-233e-449a-f9be-cc0bf5b4d3b5"
      },
      "execution_count": 3,
      "outputs": [
        {
          "output_type": "stream",
          "name": "stdout",
          "text": [
            "Enter a number of lower : 10\n",
            "Enter a number of upper : 40\n",
            "Enter a number of a : 2\n",
            "Numbers of a that a congruence  1 ( mod 24 )\n",
            "25  congruence  1 ( mod    24 )\n"
          ]
        }
      ]
    },
    {
      "cell_type": "code",
      "source": [
        "#ข้อ 5 จงสร้างเลขสุ่มเทียม 6 จำนวน โดยใช้ : xn+1 = (axn + c) mod 23 โดยรับค่า x0 , ค่า a และค่า c จากผู้ใช้ผ่านหน้าจอ\n",
        "seed = int(input())\n",
        "a =  int(input(\"Enter a number of random number of a : \")) #multipla\n",
        "c =  int(input(\"Enter a number of random number of c : \")) #increment\n",
        "m = 23 #mondulus\n",
        "n = int(input(\"Enter a number of random number of n : \"))\n",
        "rn = seed\n",
        "for i in range (1,1+n):\n",
        "  rn = ((a* rn)+c) % m\n",
        "  print(rn)\n"
      ],
      "metadata": {
        "colab": {
          "base_uri": "https://localhost:8080/"
        },
        "id": "N6sxrQXiREGo",
        "outputId": "48f0297c-5933-4703-80c7-b261c8b6491e"
      },
      "execution_count": 17,
      "outputs": [
        {
          "output_type": "stream",
          "name": "stdout",
          "text": [
            "10\n",
            "Enter a number of random number of a : 10\n",
            "Enter a number of random number of c : 10\n",
            "Enter a number of random number of n : 6\n",
            "18\n",
            "6\n",
            "1\n",
            "20\n",
            "3\n",
            "17\n"
          ]
        }
      ]
    },
    {
      "cell_type": "code",
      "source": [
        "#ข้อ 6\n",
        "a = 25\n",
        "b  = 48\n",
        "x = a\n",
        "y = b\n",
        "while b>0:\n",
        "  a, b = b, a % b\n",
        "\n",
        "gcd = a\n",
        "if gcd == 1:\n",
        "  print(x,'and',y,'are relatively prime')\n",
        "else:\n",
        "  print(x,'and',y,'are NOT relatively prime')"
      ],
      "metadata": {
        "colab": {
          "base_uri": "https://localhost:8080/"
        },
        "id": "-QmJqcZcQCjx",
        "outputId": "bd20c5f3-f681-4ac4-efbc-774904e25405"
      },
      "execution_count": 8,
      "outputs": [
        {
          "output_type": "stream",
          "name": "stdout",
          "text": [
            "25 and 48 are relatively prime\n"
          ]
        }
      ]
    },
    {
      "cell_type": "code",
      "source": [
        "#ข้อ 7\n",
        "#pairwise relatively prime\n",
        "from math import gcd\n",
        "\n",
        "def ischeckPairwise(A, n):\n",
        "  for i in range(n):\n",
        "    for j in range(n):\n",
        "      if(i != j):\n",
        "        if gcd(A[i],A[j]) != 1:\n",
        "          print('gcd(',A[i],',',A[j],') =',gcd(A[i],A[j])) #ตัวอย่างกรณีที่ผิด\n",
        "          return False\n",
        "  return True\n",
        "\n",
        "A=[17, 80, 19, 49 , 57, 13]\n",
        "n=len(A)\n",
        "\n",
        "if ischeckPairwise(A, n):\n",
        "  print(\"pairwise relatively prime\")\n",
        "else:\n",
        "  print(\"NOT pairwise relatively prime\")"
      ],
      "metadata": {
        "colab": {
          "base_uri": "https://localhost:8080/"
        },
        "id": "3WtTmQLjQLdI",
        "outputId": "cf53c394-cc50-4f17-e25a-fe7fecf11960"
      },
      "execution_count": 9,
      "outputs": [
        {
          "output_type": "stream",
          "name": "stdout",
          "text": [
            "gcd( 19 , 57 ) = 19\n",
            "NOT pairwise relatively prime\n"
          ]
        }
      ]
    },
    {
      "cell_type": "code",
      "source": [
        "#ข้อ 8\n",
        "plaintext = input(\"Please enter your plaintext: \")\n",
        "shift = int(input(\"Please enter your key: \"))\n",
        "alphabet = \"ABCDEFGHIJKLMNOPQRSTUVWXYZ\"\n",
        "ciphertext = \"\"\n",
        "\n",
        "new_ind = 0\n",
        "for i in plaintext.upper():\n",
        "  if i in alphabet:\n",
        "    new_ind = alphabet.index(i) + shift\n",
        "    ciphertext += alphabet[new_ind % 26]\n",
        "  else:\n",
        "      ciphertext += i\n",
        "\n",
        "new=0\n",
        "\n",
        "ch_template= \"\"\n",
        "for i in ciphertext.upper():\n",
        "  if i in alphabet:\n",
        "    new = alphabet.index(i) - shift\n",
        "    ch_template += alphabet[new % 26]\n",
        "  else:\n",
        "      ch_template += i\n",
        "\n",
        "print(\"The ciphertext is: \" + ciphertext)\n",
        "print(\"The ch_template is: \" + ch_template)\n"
      ],
      "metadata": {
        "colab": {
          "base_uri": "https://localhost:8080/"
        },
        "id": "L0K8FaBmRGoY",
        "outputId": "1695e7d0-9e73-4bf6-e10b-fac32b01c698"
      },
      "execution_count": 31,
      "outputs": [
        {
          "output_type": "stream",
          "name": "stdout",
          "text": [
            "Please enter your plaintext: Faculty of Informatics\n",
            "Please enter your key: 3\n",
            "The ciphertext is: IDFXOWB RI LQIRUPDWLFV\n",
            "The ch_template is: FACULTY OF INFORMATICS\n"
          ]
        }
      ]
    },
    {
      "cell_type": "code",
      "source": [
        "#ข้อ 9\n",
        "plaintext = input(\"Please enter your plaintext: \")\n",
        "shift = int(input(\"Please enter your key: \")) #เลื่อนไปกี่ครั้ง\n",
        "alphabet = \"ABCDEFGHIJKLMNOPQRSTUVWXYZ\"\n",
        "ciphertext = \"\"\n",
        "\n",
        "new_ind = 0\n",
        "for i in plaintext.upper():\n",
        "  if i in alphabet:\n",
        "    new_ind = alphabet.index(i) + shift\n",
        "    ciphertext += alphabet[new_ind % 26]\n",
        "  else:\n",
        "      ciphertext += i\n",
        "\n",
        "new=0\n",
        "\n",
        "ch_template= \"\"\n",
        "for i in ciphertext.upper():\n",
        "  if i in alphabet:\n",
        "    new = alphabet.index(i) - shift\n",
        "    ch_template += alphabet[new % 26]\n",
        "  else:\n",
        "      ch_template += i\n",
        "\n",
        "\n",
        "print(\"The ciphertext is: \" + ciphertext)\n",
        "print(\"The ch_template is: \" + ch_template)\n"
      ],
      "metadata": {
        "colab": {
          "base_uri": "https://localhost:8080/"
        },
        "id": "6P4SaWw1T_f_",
        "outputId": "f786f4ae-c909-4c1e-e1a4-86271b12541c"
      },
      "execution_count": 32,
      "outputs": [
        {
          "output_type": "stream",
          "name": "stdout",
          "text": [
            "Please enter your plaintext: Hi! what's up man ?\n",
            "Please enter your key: 3\n",
            "The ciphertext is: KL! ZKDW'V XS PDQ ?\n",
            "The ch_template is: HI! WHAT'S UP MAN ?\n"
          ]
        }
      ]
    },
    {
      "cell_type": "code",
      "source": [
        "ciphertext.upper()"
      ],
      "metadata": {
        "colab": {
          "base_uri": "https://localhost:8080/",
          "height": 35
        },
        "id": "lwiCXjWOTygD",
        "outputId": "ad87494b-57d9-4b43-a196-207c4908836e"
      },
      "execution_count": 30,
      "outputs": [
        {
          "output_type": "execute_result",
          "data": {
            "text/plain": [
              "'IDFXOWB RI LQIRUPDWLFV'"
            ],
            "application/vnd.google.colaboratory.intrinsic+json": {
              "type": "string"
            }
          },
          "metadata": {},
          "execution_count": 30
        }
      ]
    }
  ]
}