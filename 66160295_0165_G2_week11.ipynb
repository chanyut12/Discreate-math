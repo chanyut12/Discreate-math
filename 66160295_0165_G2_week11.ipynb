{
  "nbformat": 4,
  "nbformat_minor": 0,
  "metadata": {
    "colab": {
      "provenance": [],
      "include_colab_link": true
    },
    "kernelspec": {
      "name": "python3",
      "display_name": "Python 3"
    },
    "language_info": {
      "name": "python"
    }
  },
  "cells": [
    {
      "cell_type": "markdown",
      "metadata": {
        "id": "view-in-github",
        "colab_type": "text"
      },
      "source": [
        "<a href=\"https://colab.research.google.com/github/chanyut12/Discreate-math/blob/main/66160295_0165_G2_week11.ipynb\" target=\"_parent\"><img src=\"https://colab.research.google.com/assets/colab-badge.svg\" alt=\"Open In Colab\"/></a>"
      ]
    },
    {
      "cell_type": "markdown",
      "metadata": {
        "id": "KrXIeHffZ_pj"
      },
      "source": [
        "ให้นิสิต เลือกเมนู **File-->Save a copy in drive** เพื่อคัดลอกไฟล์ไปไว้ในไดร์ฟของนิสิตก่อน และเปลี่ยนชื่อไฟล์เป็น **รหัสนิสิต_Gเลขกลุ่ม_Lab11** ค่ะ ให้ทำ 1 ข้อใหญ่ ต่อ 1 code cell ค่ะ\n",
        "\n",
        "\n",
        "1. มีหนังสือ 6 เล่ม ชื่อ A,B,C,D,E,F นำมาจัดเรียงทีละ 2 เล่มได้กี่วิธี อะไรบ้าง แสดงผลออกทางหน้าจอ\n",
        "\n",
        "2.\tถ้ากำหนดรหัสผ่านความยาว 3 ตัวประกอบด้วย ตัวอักษรภาษาอังกฤษ {A, B, C, D}\n",
        " โดยใช้ตัวอักษรซ้ำได้ จะมีรหัสผ่านที่แตกต่างกันได้กี่แบบ อะไรบ้าง แสดงผลออกทางหน้าจอ\n",
        "\n",
        "\n",
        "3. จงหาขนาดของเซตจำนวนเต็มตั้งแต่ 50 ถึง 250 ที่หารด้วย 4 หรือ 9 ลงตัว ว่ามีกี่จำนวน และแสดงผลออกทางหน้าจอ\n",
        "\n",
        "4. นำอักษรในคำว่า \"PENCIL\" มาจัดเรียงทีละ 3 ตัวอักษร ได้กี่แบบ อะไรบ้าง แสดงผลออกทางหน้าจอ\n",
        "\n",
        "5. จงสร้างบิตสตริงยาว 6 ขึ้นต้นด้วยเลข 0 ได้แก่บิตสตริงอะไรบ้าง มีกี่จำนวน แสดงผลออกทางหน้าจอ\n",
        "\n",
        "6.\tจงแสดงวิธีในการหยิบไพ่ 3 ใบ จากไพ่โพธิ์ดำ ดอกจิก และ ไพ่ข้าวหลามตัด ที่มีเลขหน้าไพ่ {5, 6, 7}  และแสดงผลออกทางหน้าจอ\n",
        "\n",
        "7.\tจงหาจำนวนวิธีในการจัดกลุ่มนักเรียนชายและนักเรียนหญิง ให้ได้กลุ่มละ 4 คนในการออกไปแข่งกีฬา จากหญิง 5 คน ชาย 4 คน และแสดงผลออกทางหน้าจอ\n",
        "\n",
        "\n"
      ]
    },
    {
      "cell_type": "code",
      "execution_count": null,
      "metadata": {
        "id": "om4daJh6X2ZE"
      },
      "outputs": [],
      "source": [
        "#ชื่อ.....................รหัส......."
      ]
    },
    {
      "cell_type": "code",
      "source": [
        "#1\n",
        "from itertools import permutations\n",
        "list_1  = ['A','B','C', 'D' , 'E', 'F']\n",
        "n = set((list_1))\n",
        "p1 = {str(x) for x in n}\n",
        "E1 = set(permutations(p1,2))\n",
        "print(\"มี \",E1)\n",
        "print(\"จำนวนทั้งหมด\",len(E1))"
      ],
      "metadata": {
        "colab": {
          "base_uri": "https://localhost:8080/"
        },
        "id": "huQcNphBhEJy",
        "outputId": "3153366c-e387-440e-c2de-09539ef31493"
      },
      "execution_count": 10,
      "outputs": [
        {
          "output_type": "stream",
          "name": "stdout",
          "text": [
            "มี  {('C', 'D'), ('E', 'A'), ('C', 'E'), ('A', 'B'), ('C', 'F'), ('E', 'B'), ('F', 'A'), ('A', 'D'), ('B', 'D'), ('A', 'E'), ('D', 'A'), ('A', 'F'), ('B', 'E'), ('B', 'F'), ('B', 'C'), ('A', 'C'), ('E', 'D'), ('F', 'B'), ('E', 'F'), ('D', 'B'), ('E', 'C'), ('C', 'A'), ('F', 'D'), ('F', 'E'), ('D', 'E'), ('D', 'F'), ('F', 'C'), ('C', 'B'), ('D', 'C'), ('B', 'A')}\n",
            "จำนวนทั้งหมด 30\n"
          ]
        }
      ]
    },
    {
      "cell_type": "code",
      "source": [],
      "metadata": {
        "colab": {
          "base_uri": "https://localhost:8080/",
          "height": 175
        },
        "id": "BoBXyZjNia_a",
        "outputId": "6a6c7570-7457-44a1-b724-506a04274389"
      },
      "execution_count": 4,
      "outputs": [
        {
          "output_type": "error",
          "ename": "NameError",
          "evalue": "ignored",
          "traceback": [
            "\u001b[0;31m---------------------------------------------------------------------------\u001b[0m",
            "\u001b[0;31mNameError\u001b[0m                                 Traceback (most recent call last)",
            "\u001b[0;32m<ipython-input-4-2228fcc29a1f>\u001b[0m in \u001b[0;36m<cell line: 1>\u001b[0;34m()\u001b[0m\n\u001b[0;32m----> 1\u001b[0;31m \u001b[0mitertools\u001b[0m\u001b[0;34m\u001b[0m\u001b[0;34m\u001b[0m\u001b[0m\n\u001b[0m",
            "\u001b[0;31mNameError\u001b[0m: name 'itertools' is not defined"
          ]
        }
      ]
    },
    {
      "cell_type": "code",
      "source": [
        "#2\n",
        "# 1st method\n",
        "from itertools import combinations\n",
        "from itertools import permutations\n",
        "cn1 = 'ABCD'\n",
        "s = set(a+b+c for a in cn1 for b in cn1 for c in cn1)\n",
        "print(\"จำนวนรหัสผ่านที่แตกต่างกัน\",s)\n",
        "print(\"จำนวนรหัสที่แตกต่างกันทั้งหมด\",len(s))\n",
        "\n",
        "# 2nd method\n",
        "from itertools import product\n",
        "B =\"ABCD\"\n",
        "C = list(product(B, repeat=3))\n",
        "print(C)\n",
        "print(\"มีรหัสผ่านที่แตกต่างกันทั้งหมด\" , [\" \".join(i) for i in C])\n",
        "print(\"จำนวนรหัสผ่านทั้งหมด\", len(C))\n",
        "\n",
        "\n",
        "\n"
      ],
      "metadata": {
        "colab": {
          "base_uri": "https://localhost:8080/"
        },
        "id": "r0Pb9tLAiSAR",
        "outputId": "bafe79ec-1794-44ad-b82d-a63cb5801f91"
      },
      "execution_count": 11,
      "outputs": [
        {
          "output_type": "stream",
          "name": "stdout",
          "text": [
            "จำนวนรหัสผ่านที่แตกต่างกัน {'CCB', 'DCD', 'DAC', 'DDA', 'CAC', 'ABC', 'BDA', 'CDA', 'AAA', 'BBD', 'BDC', 'BDD', 'CAA', 'CCD', 'CDD', 'DAA', 'DBB', 'ACA', 'CBD', 'DCC', 'CBC', 'DAD', 'AAD', 'DBC', 'DAB', 'DCB', 'ACD', 'CCA', 'ADD', 'BAB', 'BBB', 'CBA', 'ABA', 'ACC', 'DDC', 'BCA', 'DDD', 'CCC', 'ADB', 'BCD', 'BAA', 'CDC', 'BBA', 'AAC', 'DBD', 'BCC', 'BCB', 'ABB', 'DCA', 'CAB', 'BDB', 'CAD', 'DBA', 'ADA', 'CDB', 'BAD', 'AAB', 'BAC', 'DDB', 'ADC', 'ACB', 'BBC', 'CBB', 'ABD'}\n",
            "จำนวนรหัสที่แตกต่างกันทั้งหมด 64\n",
            "[('A', 'A', 'A'), ('A', 'A', 'B'), ('A', 'A', 'C'), ('A', 'A', 'D'), ('A', 'B', 'A'), ('A', 'B', 'B'), ('A', 'B', 'C'), ('A', 'B', 'D'), ('A', 'C', 'A'), ('A', 'C', 'B'), ('A', 'C', 'C'), ('A', 'C', 'D'), ('A', 'D', 'A'), ('A', 'D', 'B'), ('A', 'D', 'C'), ('A', 'D', 'D'), ('B', 'A', 'A'), ('B', 'A', 'B'), ('B', 'A', 'C'), ('B', 'A', 'D'), ('B', 'B', 'A'), ('B', 'B', 'B'), ('B', 'B', 'C'), ('B', 'B', 'D'), ('B', 'C', 'A'), ('B', 'C', 'B'), ('B', 'C', 'C'), ('B', 'C', 'D'), ('B', 'D', 'A'), ('B', 'D', 'B'), ('B', 'D', 'C'), ('B', 'D', 'D'), ('C', 'A', 'A'), ('C', 'A', 'B'), ('C', 'A', 'C'), ('C', 'A', 'D'), ('C', 'B', 'A'), ('C', 'B', 'B'), ('C', 'B', 'C'), ('C', 'B', 'D'), ('C', 'C', 'A'), ('C', 'C', 'B'), ('C', 'C', 'C'), ('C', 'C', 'D'), ('C', 'D', 'A'), ('C', 'D', 'B'), ('C', 'D', 'C'), ('C', 'D', 'D'), ('D', 'A', 'A'), ('D', 'A', 'B'), ('D', 'A', 'C'), ('D', 'A', 'D'), ('D', 'B', 'A'), ('D', 'B', 'B'), ('D', 'B', 'C'), ('D', 'B', 'D'), ('D', 'C', 'A'), ('D', 'C', 'B'), ('D', 'C', 'C'), ('D', 'C', 'D'), ('D', 'D', 'A'), ('D', 'D', 'B'), ('D', 'D', 'C'), ('D', 'D', 'D')]\n",
            "มีรหัสผ่านที่แตกต่างกันทั้งหมด ['A A A', 'A A B', 'A A C', 'A A D', 'A B A', 'A B B', 'A B C', 'A B D', 'A C A', 'A C B', 'A C C', 'A C D', 'A D A', 'A D B', 'A D C', 'A D D', 'B A A', 'B A B', 'B A C', 'B A D', 'B B A', 'B B B', 'B B C', 'B B D', 'B C A', 'B C B', 'B C C', 'B C D', 'B D A', 'B D B', 'B D C', 'B D D', 'C A A', 'C A B', 'C A C', 'C A D', 'C B A', 'C B B', 'C B C', 'C B D', 'C C A', 'C C B', 'C C C', 'C C D', 'C D A', 'C D B', 'C D C', 'C D D', 'D A A', 'D A B', 'D A C', 'D A D', 'D B A', 'D B B', 'D B C', 'D B D', 'D C A', 'D C B', 'D C C', 'D C D', 'D D A', 'D D B', 'D D C', 'D D D']\n",
            "จำนวนรหัสผ่านทั้งหมด 64\n"
          ]
        }
      ]
    },
    {
      "cell_type": "code",
      "source": [
        "#3\n",
        "S = set(range(50,251))\n",
        "A = { x for x in S if x%4==0}\n",
        "B = { x for x in S if x%9==0}\n",
        "D = A|B\n",
        "print(\"จำนวนที่หาร 4 หรือ 9 ลงตัว\",D)\n",
        "print(\"จำนวนทั้งหมด\", len(D))"
      ],
      "metadata": {
        "colab": {
          "base_uri": "https://localhost:8080/"
        },
        "id": "NYaQ0doBkz8T",
        "outputId": "d78cff05-e7b2-47e8-c492-c40486bc3ccb"
      },
      "execution_count": 15,
      "outputs": [
        {
          "output_type": "stream",
          "name": "stdout",
          "text": [
            "จำนวนที่หาร 4 หรือ 9 ลงตัว {128, 132, 135, 136, 140, 144, 148, 152, 153, 156, 160, 162, 164, 168, 171, 172, 176, 52, 180, 54, 56, 184, 60, 188, 189, 63, 64, 192, 68, 196, 198, 72, 200, 76, 204, 207, 80, 208, 81, 84, 212, 88, 216, 90, 92, 220, 96, 224, 248, 225, 100, 228, 99, 104, 232, 234, 108, 236, 112, 240, 243, 116, 244, 117, 120, 124, 126}\n",
            "จำนวนทั้งหมด 67\n"
          ]
        }
      ]
    },
    {
      "cell_type": "code",
      "source": [
        "#4\n",
        "from itertools import permutations\n",
        "A = \"PENCIL\"\n",
        "s = set(permutations(A,3))\n",
        "print(\"จัดเรียงได้\",s)\n",
        "print(\"จัดเรียงได้ทั้งหมด\", len(s))"
      ],
      "metadata": {
        "colab": {
          "base_uri": "https://localhost:8080/"
        },
        "id": "rBNFp5_fnRhb",
        "outputId": "c9777d1d-409f-437e-b6ad-f83ff47d0df7"
      },
      "execution_count": 17,
      "outputs": [
        {
          "output_type": "stream",
          "name": "stdout",
          "text": [
            "จัดเรียงได้ {('P', 'E', 'N'), ('P', 'I', 'C'), ('E', 'I', 'C'), ('N', 'P', 'I'), ('L', 'E', 'N'), ('I', 'E', 'C'), ('L', 'I', 'E'), ('N', 'E', 'P'), ('C', 'E', 'N'), ('N', 'L', 'C'), ('N', 'P', 'E'), ('L', 'C', 'E'), ('E', 'L', 'N'), ('L', 'N', 'E'), ('P', 'I', 'L'), ('E', 'I', 'P'), ('L', 'I', 'N'), ('C', 'I', 'N'), ('I', 'N', 'C'), ('I', 'L', 'E'), ('I', 'E', 'P'), ('I', 'E', 'L'), ('E', 'P', 'N'), ('P', 'L', 'I'), ('P', 'C', 'L'), ('P', 'N', 'L'), ('N', 'E', 'C'), ('C', 'L', 'P'), ('P', 'I', 'E'), ('I', 'N', 'P'), ('I', 'C', 'N'), ('P', 'C', 'E'), ('E', 'N', 'C'), ('C', 'P', 'I'), ('P', 'N', 'E'), ('I', 'P', 'N'), ('N', 'L', 'E'), ('P', 'L', 'C'), ('L', 'E', 'P'), ('N', 'E', 'L'), ('L', 'E', 'I'), ('P', 'I', 'N'), ('N', 'E', 'I'), ('E', 'I', 'L'), ('E', 'C', 'P'), ('E', 'N', 'P'), ('E', 'N', 'L'), ('L', 'P', 'C'), ('C', 'I', 'P'), ('P', 'E', 'C'), ('E', 'C', 'I'), ('N', 'I', 'P'), ('E', 'N', 'I'), ('L', 'E', 'C'), ('E', 'P', 'I'), ('L', 'C', 'N'), ('N', 'C', 'P'), ('C', 'N', 'P'), ('C', 'L', 'I'), ('C', 'N', 'I'), ('I', 'L', 'N'), ('E', 'L', 'C'), ('P', 'L', 'E'), ('I', 'N', 'L'), ('P', 'E', 'L'), ('C', 'P', 'L'), ('I', 'C', 'P'), ('L', 'P', 'I'), ('P', 'E', 'I'), ('L', 'I', 'C'), ('N', 'I', 'C'), ('E', 'P', 'C'), ('C', 'L', 'E'), ('E', 'I', 'N'), ('C', 'E', 'P'), ('C', 'E', 'I'), ('I', 'E', 'N'), ('L', 'N', 'C'), ('I', 'N', 'E'), ('L', 'P', 'E'), ('E', 'L', 'P'), ('C', 'P', 'E'), ('P', 'C', 'N'), ('E', 'L', 'I'), ('E', 'C', 'L'), ('L', 'I', 'P'), ('C', 'I', 'L'), ('N', 'I', 'L'), ('E', 'P', 'L'), ('I', 'P', 'C'), ('L', 'C', 'P'), ('C', 'P', 'N'), ('L', 'N', 'P'), ('N', 'C', 'L'), ('C', 'N', 'L'), ('L', 'C', 'I'), ('L', 'N', 'I'), ('N', 'C', 'I'), ('I', 'L', 'P'), ('C', 'I', 'E'), ('N', 'I', 'E'), ('I', 'C', 'L'), ('P', 'N', 'C'), ('I', 'P', 'L'), ('N', 'C', 'E'), ('C', 'N', 'E'), ('C', 'E', 'L'), ('E', 'C', 'N'), ('N', 'P', 'C'), ('P', 'L', 'N'), ('I', 'C', 'E'), ('I', 'L', 'C'), ('N', 'L', 'P'), ('P', 'C', 'I'), ('I', 'P', 'E'), ('P', 'N', 'I'), ('C', 'L', 'N'), ('N', 'L', 'I'), ('N', 'P', 'L'), ('L', 'P', 'N')}\n",
            "จัดเรียงได้ทั้งหมด 120\n"
          ]
        }
      ]
    },
    {
      "cell_type": "code",
      "source": [
        "#5\n",
        "import math\n",
        "import itertools\n",
        "\n",
        "n1 =\"01\"\n",
        "S = (a+b+c+d+e+f for a in n1 for b in n1 for c in n1 for d in n1 for e in n1 for f in n1)\n",
        "n2 = {x for x in S if x[0]=='0'}\n",
        "print(\"จำนวน 6 หลักได้แก่\", n2)\n",
        "print(\"จำนวนทั้งหมด\",len(n2))"
      ],
      "metadata": {
        "colab": {
          "base_uri": "https://localhost:8080/"
        },
        "id": "Eung4bFRoEmS",
        "outputId": "437bdaea-d1f7-4616-f698-445336a4aa0c"
      },
      "execution_count": 22,
      "outputs": [
        {
          "output_type": "stream",
          "name": "stdout",
          "text": [
            "จำนวน 6 หลักได้แก่ {'000101', '001011', '010100', '001110', '010001', '010010', '010110', '000011', '011010', '001101', '010000', '011111', '001001', '010101', '011001', '000000', '010011', '001010', '011110', '011101', '000111', '011100', '000110', '000010', '010111', '000100', '011000', '001000', '000001', '001100', '001111', '011011'}\n",
            "จำนวนทั้งหมด 32\n"
          ]
        }
      ]
    },
    {
      "cell_type": "code",
      "source": [
        "#6\n",
        "from itertools import combinations\n",
        "import math\n",
        "\n",
        "point = \"567\"\n",
        "suitsS = {'S' +b for b in point}\n",
        "suitsC = {'C' +b for b in point}\n",
        "suitsD = {'D' +b for b in point}\n",
        "E = suitsS | suitsC | suitsD\n",
        "A = set(combinations(E,3))\n",
        "print(len(A))\n",
        "print(A)"
      ],
      "metadata": {
        "colab": {
          "base_uri": "https://localhost:8080/"
        },
        "id": "RSA1QdHMp7Wx",
        "outputId": "fa456389-01cc-4918-9aa3-03f7b7e8e56c"
      },
      "execution_count": 25,
      "outputs": [
        {
          "output_type": "stream",
          "name": "stdout",
          "text": [
            "84\n",
            "{('S5', 'S6', 'C7'), ('S5', 'C6', 'D6'), ('D5', 'C5', 'S7'), ('S6', 'D6', 'S7'), ('C5', 'C7', 'S7'), ('D5', 'D7', 'D6'), ('D7', 'S6', 'C5'), ('C5', 'C6', 'D6'), ('D5', 'S5', 'S7'), ('S5', 'D7', 'S7'), ('D5', 'S6', 'C5'), ('D5', 'S6', 'D6'), ('D7', 'C5', 'C6'), ('D7', 'C5', 'C7'), ('S5', 'D6', 'S7'), ('S5', 'C5', 'D6'), ('D7', 'C7', 'S7'), ('D5', 'C6', 'D6'), ('D5', 'S5', 'C6'), ('D7', 'S6', 'S7'), ('D5', 'S5', 'C7'), ('S5', 'D7', 'S6'), ('S6', 'C5', 'D6'), ('D5', 'D6', 'S7'), ('C6', 'C7', 'S7'), ('D5', 'D7', 'C5'), ('D7', 'D6', 'S7'), ('C7', 'D6', 'S7'), ('S6', 'C6', 'S7'), ('D7', 'S6', 'C6'), ('D5', 'D7', 'S6'), ('D7', 'S6', 'C7'), ('D7', 'C6', 'D6'), ('S5', 'S6', 'D6'), ('D5', 'C7', 'S7'), ('D5', 'C7', 'D6'), ('D5', 'C5', 'C6'), ('S6', 'C7', 'D6'), ('S5', 'C6', 'S7'), ('D5', 'C5', 'C7'), ('S5', 'D7', 'C6'), ('D5', 'D7', 'S7'), ('C5', 'C6', 'S7'), ('S5', 'D7', 'C7'), ('S6', 'C6', 'C7'), ('D7', 'C5', 'D6'), ('D5', 'S6', 'S7'), ('S5', 'C7', 'D6'), ('D5', 'S5', 'D7'), ('S5', 'C5', 'S7'), ('D5', 'C6', 'S7'), ('C5', 'C7', 'D6'), ('S5', 'C6', 'C7'), ('D5', 'S5', 'C5'), ('D5', 'S5', 'D6'), ('D5', 'D7', 'C6'), ('C5', 'D6', 'S7'), ('D5', 'D7', 'C7'), ('C5', 'C6', 'C7'), ('S5', 'S6', 'C5'), ('D5', 'S6', 'C6'), ('S6', 'C5', 'S7'), ('D5', 'S6', 'C7'), ('D7', 'C7', 'D6'), ('S5', 'C5', 'C6'), ('S5', 'C5', 'C7'), ('D5', 'C6', 'C7'), ('D7', 'S6', 'D6'), ('D7', 'C6', 'S7'), ('S5', 'S6', 'S7'), ('S6', 'C5', 'C6'), ('D5', 'C5', 'D6'), ('S6', 'C5', 'C7'), ('C6', 'C7', 'D6'), ('S6', 'C7', 'S7'), ('S5', 'D7', 'C5'), ('S5', 'D7', 'D6'), ('S6', 'C6', 'D6'), ('C6', 'D6', 'S7'), ('D5', 'S5', 'S6'), ('D7', 'C5', 'S7'), ('S5', 'S6', 'C6'), ('S5', 'C7', 'S7'), ('D7', 'C6', 'C7')}\n"
          ]
        }
      ]
    },
    {
      "cell_type": "code",
      "source": [
        "#7\n",
        "n = list(range(1,5+1))\n",
        "nn = [str(x) for x in n]\n",
        "f = set('f' +b for b in nn)\n",
        "print(f)\n",
        "n = list(range(1,4+1))\n",
        "nn = [str(x) for x in n]\n",
        "m = set('m' + a for a in nn)\n",
        "print(m)\n",
        "a = f|m\n",
        "E = set(combinations(a,4))\n",
        "print(E)\n",
        "print(\"จำนวนทั้งหมด\",len(E))\n",
        "\n"
      ],
      "metadata": {
        "colab": {
          "base_uri": "https://localhost:8080/"
        },
        "id": "pRVK4lmGrdY6",
        "outputId": "69169050-db12-413e-cc24-6b623411c9c7"
      },
      "execution_count": 32,
      "outputs": [
        {
          "output_type": "stream",
          "name": "stdout",
          "text": [
            "{'f3', 'f2', 'f4', 'f1', 'f5'}\n",
            "{'m2', 'm4', 'm1', 'm3'}\n",
            "{('f2', 'f4', 'm3', 'f1'), ('m1', 'm2', 'f4', 'm4'), ('m1', 'm3', 'f1', 'm4'), ('m2', 'f2', 'm3', 'f5'), ('m1', 'm2', 'f3', 'f2'), ('m2', 'f3', 'm3', 'm4'), ('m2', 'f4', 'm4', 'f5'), ('m1', 'f3', 'm3', 'f1'), ('m1', 'm2', 'f3', 'm3'), ('f2', 'm3', 'm4', 'f5'), ('m2', 'f4', 'f1', 'f5'), ('m1', 'm2', 'f3', 'm4'), ('m1', 'm2', 'f2', 'f5'), ('m1', 'm2', 'f4', 'f1'), ('m1', 'm2', 'm4', 'f5'), ('f4', 'f1', 'm4', 'f5'), ('f2', 'f4', 'm4', 'f5'), ('m1', 'f4', 'm3', 'm4'), ('m2', 'f2', 'm3', 'm4'), ('m3', 'f1', 'm4', 'f5'), ('m2', 'f3', 'm3', 'f1'), ('m1', 'm2', 'f2', 'm3'), ('m1', 'f3', 'm4', 'f5'), ('m1', 'm2', 'f3', 'f1'), ('f3', 'f2', 'm3', 'm4'), ('m1', 'f1', 'm4', 'f5'), ('m1', 'f4', 'm3', 'f1'), ('m2', 'f2', 'm3', 'f1'), ('m2', 'm3', 'm4', 'f5'), ('f3', 'm3', 'm4', 'f5'), ('m2', 'f3', 'm4', 'f5'), ('m1', 'm2', 'f3', 'f4'), ('m1', 'f3', 'f4', 'f5'), ('m2', 'f1', 'm4', 'f5'), ('f3', 'f2', 'm3', 'f1'), ('m1', 'f2', 'm3', 'm4'), ('f2', 'f1', 'm4', 'f5'), ('m2', 'f2', 'm4', 'f5'), ('m2', 'f3', 'f4', 'f5'), ('m1', 'f3', 'f4', 'm3'), ('f2', 'm3', 'f1', 'f5'), ('m1', 'm3', 'm4', 'f5'), ('m1', 'f3', 'f4', 'm4'), ('m1', 'm2', 'f1', 'f5'), ('f2', 'f4', 'f1', 'f5'), ('f3', 'f2', 'm4', 'f5'), ('m1', 'f2', 'm3', 'f1'), ('f3', 'f2', 'f1', 'f5'), ('m2', 'f2', 'f4', 'f5'), ('m2', 'f3', 'f4', 'm3'), ('m2', 'f3', 'f4', 'm4'), ('f4', 'm3', 'm4', 'f5'), ('m2', 'f4', 'f1', 'm4'), ('m1', 'f3', 'f2', 'f5'), ('m1', 'm2', 'f2', 'm4'), ('m1', 'f3', 'f4', 'f1'), ('m1', 'f3', 'f1', 'f5'), ('f2', 'm3', 'f1', 'm4'), ('m1', 'm2', 'f1', 'm4'), ('f3', 'f2', 'f4', 'f5'), ('f3', 'f4', 'm4', 'f5'), ('f2', 'f4', 'f1', 'm4'), ('m2', 'f4', 'm3', 'f5'), ('m2', 'f2', 'f4', 'm3'), ('m1', 'm2', 'm3', 'f5'), ('m2', 'm3', 'f1', 'f5'), ('m2', 'f3', 'f2', 'f5'), ('f3', 'm3', 'f1', 'f5'), ('m1', 'f2', 'm4', 'f5'), ('m2', 'f3', 'f4', 'f1'), ('m2', 'f3', 'f1', 'f5'), ('m1', 'f3', 'f2', 'm3'), ('m1', 'm2', 'f2', 'f1'), ('m1', 'f3', 'f1', 'm4'), ('f3', 'f2', 'f4', 'm3'), ('f3', 'f2', 'f4', 'm4'), ('m2', 'f3', 'f2', 'm3'), ('m1', 'f4', 'm4', 'f5'), ('m1', 'f2', 'f4', 'f5'), ('m1', 'm2', 'm3', 'm4'), ('m2', 'f2', 'f1', 'f5'), ('m2', 'f3', 'f2', 'm4'), ('m2', 'm3', 'f1', 'm4'), ('m1', 'm2', 'f2', 'f4'), ('m2', 'f3', 'f1', 'm4'), ('m1', 'm3', 'f1', 'f5'), ('f3', 'f2', 'f4', 'f1'), ('m2', 'f3', 'm3', 'f5'), ('f3', 'f4', 'm3', 'f5'), ('m1', 'f2', 'f4', 'm3'), ('m1', 'm2', 'm3', 'f1'), ('m1', 'f2', 'f4', 'm4'), ('m2', 'f3', 'f2', 'f1'), ('m2', 'f2', 'f1', 'm4'), ('f4', 'm3', 'f1', 'f5'), ('f3', 'f1', 'm4', 'f5'), ('m1', 'f4', 'm3', 'f5'), ('f3', 'f4', 'f1', 'f5'), ('f3', 'f2', 'f1', 'm4'), ('f3', 'f4', 'm3', 'm4'), ('m2', 'f2', 'f4', 'm4'), ('m2', 'f3', 'f2', 'f4'), ('m1', 'f2', 'f4', 'f1'), ('m1', 'f2', 'f1', 'f5'), ('f2', 'f4', 'm3', 'f5'), ('m1', 'f3', 'f2', 'm4'), ('f4', 'm3', 'f1', 'm4'), ('f3', 'f2', 'm3', 'f5'), ('m2', 'f4', 'm3', 'm4'), ('f3', 'f4', 'f1', 'm4'), ('m1', 'f3', 'm3', 'f5'), ('m2', 'f2', 'f4', 'f1'), ('f3', 'f4', 'm3', 'f1'), ('f3', 'm3', 'f1', 'm4'), ('m1', 'f4', 'f1', 'f5'), ('m1', 'm2', 'f4', 'f5'), ('m1', 'f3', 'f2', 'f1'), ('m1', 'f2', 'f1', 'm4'), ('f2', 'f4', 'm3', 'm4'), ('m2', 'f4', 'm3', 'f1'), ('m1', 'f2', 'm3', 'f5'), ('m1', 'f3', 'm3', 'm4'), ('m1', 'f3', 'f2', 'f4'), ('m1', 'm2', 'f3', 'f5'), ('m1', 'm2', 'f4', 'm3'), ('m1', 'f4', 'f1', 'm4')}\n",
            "จำนวนทั้งหมด 126\n"
          ]
        }
      ]
    }
  ]
}