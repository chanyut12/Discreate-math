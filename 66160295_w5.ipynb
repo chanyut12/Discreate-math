{
  "nbformat": 4,
  "nbformat_minor": 0,
  "metadata": {
    "colab": {
      "provenance": [],
      "include_colab_link": true
    },
    "kernelspec": {
      "name": "python3",
      "display_name": "Python 3"
    },
    "language_info": {
      "name": "python"
    }
  },
  "cells": [
    {
      "cell_type": "markdown",
      "metadata": {
        "id": "view-in-github",
        "colab_type": "text"
      },
      "source": [
        "<a href=\"https://colab.research.google.com/github/chanyut12/Discreate-math/blob/main/66160295_w5.ipynb\" target=\"_parent\"><img src=\"https://colab.research.google.com/assets/colab-badge.svg\" alt=\"Open In Colab\"/></a>"
      ]
    },
    {
      "cell_type": "markdown",
      "metadata": {
        "id": "dY_MiPmdi8yx"
      },
      "source": [
        "ให้นิสิต เลือกเมนู **File-->Save a copy in drive** เพื่อคัดลอกไฟล์ไปไว้ในไดร์ฟของนิสิตก่อน\n",
        "และเปลี่ยนชื่อไฟล์เป็น **รหัสนิสิต_Week5** ค่ะ\n",
        "\n",
        "1. กำหนดให้ mySet = {36, 10, 40 ,14, 120, 1000, 50, 60, 20} จงเขียนโปรแกรมแสดงค่าของเซต mySet  \n",
        "และแสดงจำนวนสมาชิกในเซต ค่าผลรวมของสมาชิกทั้งหมด ค่าที่มากที่สุด และค่าที่น้อยที่สุดในเซต ออกทางหน้าจอ\n",
        "\n",
        "2. เขียนโปรแกรมเพื่อสร้างลิสต์ a ซึ่งเป็นลิสต์ของเลขจำนวนเต็ม 6 จำนวน โดยใช้คำสั่ง for เพื่อ รับเลขจำนวนเต็มครั้งละ 1 ตัวจากผู้ใช้ผ่านหน้าจอ จำนวน 6 รอบ  \n",
        "\n",
        "2(a) รับตัวเลข 1 ตัวจากผู้ใช้ และนำไปใส่ไว้ในตำแหน่งหลังสุดในลิสต์ a จากนั้นแสดงค่าของลิสต์ a ออกทางหน้าจอ\n",
        "\n",
        "2(b) ลบสมาชิกที่ได้ออกให้เหลือเพียง 4 ตัวแรก แสดงผลที่ได้ออกทางหน้าจอ\n",
        "\n",
        "2(c) แสดงค่าผลรวมของสมาชิกทั้งหมด ค่าที่มากที่สุด ค่าที่น้อยที่สุด และค่าเฉลี่ยของสมาชิกในลิสต์ ออกทางหน้าจอ\n",
        "\n",
        "3. เขียนโปรแกรมเพื่อสร้างเซต b ซึ่งเป็นเซตของเลขจำนวนเต็มคี่ ที่มีค่าตั้งแต่ 10 ถึง 30  โดยใช้คำสั่ง for เพื่อสร้างเซต  จากนั้นแสดงค่าของเซต b ออกทางหน้าจอ  \n",
        "\n",
        "จากนั้นรับเลขจำนวนเต็ม 1 ตัวจากผู้ใช้ผ่านหน้าจอ และนำเลขที่รับค่าจากผู้ใช้นี้ คูณด้วย 3 และนำเลขผลลัพธ์ที่ได้ ไปตรวจสอบว่าผลคูณนี้เป็นสมาชิกของเซต b หรือไม่\n",
        "\n",
        "ถ้าเป็นสมาชิกในเซต b แสดงข้อความ \"The 3*number is an element in b.\" ออกทางหน้าจอ\n",
        "\n",
        "ถ้าไม่เป็นสมาชิกในเซต b แสดงข้อความ \"The 3*number is not an element in b.\" ออกทางหน้าจอ\n",
        "\n",
        "\n",
        "4. จงเขียนโปรแกรมทดสอบทฤษฎีบทที่กล่าวว่า “ถ้า $3|n$ แล้ว 3|($n^3-n$) เมื่อ n เป็นจำนวนเต็มใด ๆ” โดยรับค่า n จากผู้ใช้ผ่านหน้าจอ\n",
        "\n",
        "\n",
        "5. จงเขียนโปรแกรมทดสอบทฤษฎีบทที่กล่าวว่า  “ถ้า $a$ และ $b$ เป็นจำนวนคี่ แล้ว $a^2$ + $b^2$ เป็นจำนวนคู่” โดยรับค่า $a, b$ จากผู้ใช้ผ่านหน้าจอ\n",
        "\n"
      ]
    },
    {
      "cell_type": "code",
      "source": [
        "#ชื่อ................................รหัส............"
      ],
      "metadata": {
        "id": "s0JhZRf0k415"
      },
      "execution_count": null,
      "outputs": []
    },
    {
      "cell_type": "code",
      "source": [
        "#1.กำหนดให้ mySet = {36, 10, 40 ,14, 120, 1000, 50, 60, 20} จงเขียนโปรแกรมแสดงค่าของเซต mySet และแสดงจำนวนสมาชิกในเซต ค่าผลรวมของสมาชิกทั้งหมด ค่าที่มากที่สุด และค่าที่น้อยที่สุดในเซต ออกทางหน้าจอ\n",
        "mySet = {36, 10, 40 ,14, 120, 1000, 50, 60, 20}\n",
        "mySet=list(mySet)\n",
        "print(len(mySet))\n",
        "c=0\n",
        "b=0\n",
        "d=10000\n",
        "for i in mySet:\n",
        "  c = c+i\n",
        "for j in mySet:\n",
        "  if j>b:\n",
        "    b=j\n",
        "for k in mySet:\n",
        "  if k<d:\n",
        "    d=k\n",
        "print(\"ผลรวม :\",c)\n",
        "print(\"ค่ามากสุด :\",b)\n",
        "print(\"ค่าน้อยสุด :\",d)"
      ],
      "metadata": {
        "colab": {
          "base_uri": "https://localhost:8080/"
        },
        "id": "EUoRnAjCOLPo",
        "outputId": "3c49aada-be54-4316-da6a-f01b4add509e"
      },
      "execution_count": null,
      "outputs": [
        {
          "output_type": "stream",
          "name": "stdout",
          "text": [
            "9\n",
            "ผลรวม : 1350\n",
            "ค่ามากสุด : 1000\n",
            "ค่าน้อยสุด : 10\n"
          ]
        }
      ]
    },
    {
      "cell_type": "code",
      "source": [
        "from pdb import main\n",
        "from traitlets.traitlets import List\n",
        "#2. เขียนโปรแกรมเพื่อสร้างลิสต์ a ซึ่งเป็นลิสต์ของเลขจำนวนเต็ม 6 จำนวน โดยใช้คำสั่ง for เพื่อ รับเลขจำนวนเต็มครั้งละ 1 ตัวจากผู้ใช้ผ่านหน้าจอ จำนวน 6 รอบ\n",
        "list =[]\n",
        "num=6\n",
        "N=num\n",
        "# 2(a) รับตัวเลข 1 ตัวจากผู้ใช้ และนำไปใส่ไว้ในตำแหน่งหลังสุดในลิสต์ a จากนั้นแสดงค่าของลิสต์ a ออกทางหน้าจอ\n",
        "for i in range(num):\n",
        "  if N>0:\n",
        "    in_num = int(input())\n",
        "    #list.insert(N-1,in_num)\n",
        "    list.append(in_num)\n",
        "    N-=1\n",
        "print(list)\n",
        "\n",
        "#2(c) แสดงค่าผลรวมของสมาชิกทั้งหมด ค่าที่มากที่สุด ค่าที่น้อยที่สุด และค่าเฉลี่ยของสมาชิกในลิสต์ ออกทางหน้าจอ\n",
        "sum=0\n",
        "max=0\n",
        "min=10000\n",
        "\n",
        "for su in list:\n",
        "  sum = sum + su\n",
        "for ma in list:\n",
        "  if ma>max:\n",
        "    max=ma\n",
        "for mi in list:\n",
        "  if mi<min:\n",
        "    min=mi\n",
        "\n",
        "#set_list = set(list)\n",
        "#print(set_list)\n",
        "\n",
        "average = sum/num\n",
        "\n",
        "print(\"ผลรวม :\",sum)\n",
        "print(\"ค่ามากสุด :\",max)\n",
        "print(\"ค่าน้อยสุด :\", min)\n",
        "print(\"average :\", average)\n",
        "#2(b) ลบสมาชิกที่ได้ออกให้เหลือเพียง 4 ตัวแรก แสดงผลที่ได้ออกทางหน้าจอ\n",
        "\n",
        "del list[4:]\n",
        "print(list)"
      ],
      "metadata": {
        "colab": {
          "base_uri": "https://localhost:8080/"
        },
        "id": "UCbbTB6gTFRw",
        "outputId": "63433419-1f81-496d-9f14-f2123c9c24d4"
      },
      "execution_count": null,
      "outputs": [
        {
          "output_type": "stream",
          "name": "stdout",
          "text": [
            "-1\n",
            "2\n",
            "5\n",
            "46\n",
            "2\n",
            "4\n",
            "[-1, 2, 5, 46, 2, 4]\n",
            "ผลรวม : 58\n",
            "ค่ามากสุด : 46\n",
            "ค่าน้อยสุด : -1\n",
            "average : 9.666666666666666\n",
            "[-1, 2, 5, 46]\n"
          ]
        }
      ]
    },
    {
      "cell_type": "code",
      "source": [
        "#3.เขียนโปรแกรมเพื่อสร้างเซต b ซึ่งเป็นเซตของเลขจำนวนเต็มคี่ ที่มีค่าตั้งแต่ 10 ถึง 30 โดยใช้คำสั่ง for เพื่อสร้างเซต จากนั้นแสดงค่าของเซต b ออกทางหน้าจอ\n",
        "#จากนั้นรับเลขจำนวนเต็ม 1 ตัวจากผู้ใช้ผ่านหน้าจอ และนำเลขที่รับค่าจากผู้ใช้นี้ คูณด้วย 3 และนำเลขผลลัพธ์ที่ได้ ไปตรวจสอบว่าผลคูณนี้เป็นสมาชิกของเซต b หรือไม่\n",
        "new_set = set()\n",
        "num_ = int(input())\n",
        "for number in range(10, 31):\n",
        "    if number % 2 != 0:\n",
        "        new_set.add(number)\n",
        "num_ = num_ * 3\n",
        "print(new_set)\n",
        "if num_ in new_set:\n",
        "  print(\"The 3*number is an element in b\")\n",
        "else:\n",
        "  print(\"The 3*number is not an element in b.\")"
      ],
      "metadata": {
        "colab": {
          "base_uri": "https://localhost:8080/"
        },
        "id": "Eqa8IkiVdHl-",
        "outputId": "78fb10e8-5c4c-4b70-9b98-e612accaf5b7"
      },
      "execution_count": null,
      "outputs": [
        {
          "output_type": "stream",
          "name": "stdout",
          "text": [
            "5\n",
            "{11, 13, 15, 17, 19, 21, 23, 25, 27, 29}\n",
            "The 3*number is an element in b\n"
          ]
        }
      ]
    },
    {
      "cell_type": "code",
      "source": [
        "# 4.จงเขียนโปรแกรมทดสอบทฤษฎีบทที่กล่าวว่า “ถ้า  3|n  แล้ว 3|( n^3−n ) เมื่อ n เป็นจำนวนเต็มใด ๆ” โดยรับค่า n จากผู้ใช้ผ่านหน้าจอ\n",
        "a=3\n",
        "n = int(input())\n",
        "assm1=(n%3==0)\n",
        "print(\"assm1 1 :\",assm1)\n",
        "print(\"-------------------------\")\n",
        "conc = ((n**3 - n)%3==0)\n",
        "print(\"conclusion : \" ,conc)\n",
        "print(\"-------------------------\")\n",
        "print(\"assumptions --> conclusion\")\n",
        "print(not(assm1) or conc)"
      ],
      "metadata": {
        "colab": {
          "base_uri": "https://localhost:8080/"
        },
        "id": "B376NhF7Qiyg",
        "outputId": "02a11782-be5f-4f6b-af0f-fe0d6deb2be4"
      },
      "execution_count": null,
      "outputs": [
        {
          "output_type": "stream",
          "name": "stdout",
          "text": [
            "6\n",
            "assm1 1 : True\n",
            "-------------------------\n",
            "conclusion :  True\n",
            "-------------------------\n",
            "assumptions --> conclusion\n",
            "True\n"
          ]
        }
      ]
    },
    {
      "cell_type": "code",
      "source": [
        "# 5.จงเขียนโปรแกรมทดสอบทฤษฎีบทที่กล่าวว่า “ถ้า  a  และ  b  เป็นจำนวนคี่ แล้ว  a^2  +  b^2  เป็นจำนวนคู่” โดยรับค่า  a,b  จากผู้ใช้ผ่านหน้าจอ\n",
        "a = int(input(\"a :\"))\n",
        "b = int(input(\"b :\"))\n",
        "assm1= (a%2==1)\n",
        "assm2= (b%2==1)\n",
        "print(\"assumption 1 :\",assm1)\n",
        "print(\"assumption 2 :\",assm2)\n",
        "print(\"-------------------------\")\n",
        "conc = ((a**2 + b**2)%2==0)\n",
        "print(\"conclusion :\",conc)\n",
        "print(\"-------------------------\")\n",
        "print(\"assumptions --> conclusion\")\n",
        "print(not(assm1) or conc)"
      ],
      "metadata": {
        "colab": {
          "base_uri": "https://localhost:8080/"
        },
        "id": "flKxWji4RuPH",
        "outputId": "2351bc2d-3de7-4e11-dd07-ed22344d79a7"
      },
      "execution_count": null,
      "outputs": [
        {
          "output_type": "stream",
          "name": "stdout",
          "text": [
            "a :3\n",
            "b :3\n",
            "assumption 1 : True\n",
            "assumption 2 : True\n",
            "-------------------------\n",
            "conclusion : True\n",
            "-------------------------\n",
            "assumptions --> conclusion\n",
            "True\n"
          ]
        }
      ]
    }
  ]
}