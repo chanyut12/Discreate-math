{
  "nbformat": 4,
  "nbformat_minor": 0,
  "metadata": {
    "colab": {
      "provenance": [],
      "include_colab_link": true
    },
    "kernelspec": {
      "name": "python3",
      "display_name": "Python 3"
    },
    "language_info": {
      "name": "python"
    }
  },
  "cells": [
    {
      "cell_type": "markdown",
      "metadata": {
        "id": "view-in-github",
        "colab_type": "text"
      },
      "source": [
        "<a href=\"https://colab.research.google.com/github/chanyut12/Discreate-math/blob/main/66160295_week7.ipynb\" target=\"_parent\"><img src=\"https://colab.research.google.com/assets/colab-badge.svg\" alt=\"Open In Colab\"/></a>"
      ]
    },
    {
      "cell_type": "markdown",
      "metadata": {
        "id": "zWeeppVnw5MF"
      },
      "source": [
        "ให้นิสิต เลือกเมนู **File-->Save a copy in drive** เพื่อคัดลอกไฟล์ไปไว้ในไดร์ฟของนิสิตก่อน\n",
        "และเปลี่ยนชื่อไฟล์เป็น **รหัสนิสิต_Week7** ค่ะ\n",
        "\n",
        "\n",
        "1.\tจงเขียนโปรแกรมรับ a ซึ่งเป็นเลขทศนิยม 5 หลักที่มีค่าเป็นบวก (เช่น 3.81024) และ รับ b ซึ่งเป็นเลขทศนิยม 5 หลักที่มีค่าเป็นลบ (เช่น -4.11024)  จากนั้นหาผลลัพธ์ตามข้อ 1.1 -1.4\n",
        "\n",
        "1.1\tแสดงผลลัพธ์การปัดเศษเลขทศนิยมของเลข a ที่รับเข้ามา ให้มีเลขทศนิยม 2 หลัก\n",
        "\n",
        "1.2\tแสดงผลลัพธ์การหาค่าสัมบูรณ์ของเลข b ที่รับเข้ามา และให้มีเลขทศนิยม 4 หลัก\n",
        "\n",
        "1.3\tแสดงผลลัพธ์การหาค่า floor ของ b (หา $\\lfloor$b$\\rfloor$)\n",
        "\n",
        "1.4\tแสดงผลลัพธ์การหาค่า ceil ของ a (หา $\\lceil$a$\\rceil$)\n",
        "\n",
        "2.\tจงเขียนฟังก์ชั่นชื่อ divideset(d) เพื่อสร้างเซตตัวเลขที่มีคุณสมบัติหารลงตัวในช่วงเลข 1 ถึง 20 โดยรับค่า argument d (เมื่่อ d คือค่าของตัวหารที่ต้องการ) เช่น\n",
        "divideset(2) จะทำการเรียกฟังก์ชั่นในการสร้างเซตของจำนวนคู่ (จำนวนที่หารด้วย 2 ลงตัว) ในช่วงตัวเลข 1 ถึง 20\n",
        "divideset(3) จะทำการเรียกฟังก์ชั่นในการสร้างเซตของจำนวนที่หารด้วย 3 ลงตัว ในช่วงตัวเลข 1 ถึง 20\n",
        "divideset(4) จะทำการเรียกฟังก์ชั่นในการสร้างเซตของจำนวนที่หารด้วย 4 ลงตัว ในช่วงตัวเลข 1 ถึง 20\n",
        "divideset(5) จะทำการเรียกฟังก์ชั่นในการสร้างเซตของจำนวนที่หารด้วย 5 ลงตัว ในช่วงตัวเลข 1 ถึง 20\n",
        "\n",
        "2.1 สร้างเซตของเลขจำนวนเต็ม A, B, C, D โดยเรียกใช้ฟังก์ชั่น divideset(d) ที่สร้างไว้แล้ว โดย\n",
        "\n",
        "เซต A มีสมาชิกเป็นจำนวนเต็มคู่ ที่มีค่าอยู่ภายในช่วง 1-20 โดยเรียกใช้ฟังก์ชั่น divideset(2)\n",
        "\n",
        "เซต B มีสมาชิกเป็นจำนวนที่หารด้วย 3 ลงตัว ที่มีค่าอยู่ภายในช่วง 1-20 โดยเรียกใช้ฟังก์ชั่น divideset(3)\n",
        "\n",
        "เซต C มีสมาชิกเป็นจำนวนที่หารด้วย 4 ลงตัว ที่มีค่าอยู่ภายในช่วง 1-20 โดยเรียกใช้ฟังก์ชั่น divideset(4)\n",
        "\n",
        "เซต D มีสมาชิกเป็นจำนวนที่หารด้วย 5 ลงตัว ที่มีค่าอยู่ภายในช่วง 1-20 โดยเรียกใช้ฟังก์ชั่น divideset(5)\n",
        "\n",
        "แสดงเซต A, B, C, D ที่ได้ออกทางหน้าจอ\n",
        "\n",
        "\n",
        "2.2 สร้างฟังก์ชั่นชื่อ IncExc(set1,set2) : รับค่า argument set1 และ set2 คือเซตที่ต้องการนำมาหาค่าของ |set1 $\\cup$ set2| ตามหลักการรวมเข้าตัดออกโดยที่\n",
        "\n",
        " |set1 $\\cup$ set2| = |set1|+|set2|-|set1 $\\cap$ set2|\n",
        "\n",
        "2.3 จงหาค่าของ |A $\\cup$ B| โดยเรียกใช้ฟังก์ชั่น IncExc(A,B)\n",
        "\n",
        "2.4 จงหาค่าของ |B $\\cup$ C| โดยเรียกใช้ฟังก์ชั่น IncExc(B,C)\n",
        "\n",
        "2.5 จงหาค่าของ |(A-B) $\\cup$ (C-D)| โดยเรียกใช้ฟังก์ชั่น IncExc(A-B,C-D)\n",
        "\n",
        "\n",
        "3.\tจงสร้างฟังก์ชัน f(x) = x$^2$+1 โดยจะส่งผลลัพธ์กลับไป  เมื่อ x คือจำนวนเต็มที่รับมาจากแป้นพิมพ์\n",
        "\n",
        "3.1\tจงสร้างฟังก์ชัน g(x) = 3(x+5) โดยจะส่งผลลัพธ์กลับไป เมื่อ x คือค่าที่รับมาจากแป้นพิมพ์\n",
        "\n",
        "3.2\tรับค่าจำนวนเต็ม x 1 ค่าจากผู้ใช้ผ่านหน้าจอ และแสดงค่าของ g(f(x)) , f(g(x)) ออกทางหน้าจอ\n",
        "\n",
        "3.3 หาค่าของ g$^4$(x) แสดงผลออกทางหน้าจอ\n",
        "\n"
      ]
    },
    {
      "cell_type": "code",
      "execution_count": 1,
      "metadata": {
        "id": "RL-GZOF2W1jB"
      },
      "outputs": [],
      "source": [
        "#ชื่อ.......................รหัส..........\n"
      ]
    },
    {
      "cell_type": "code",
      "source": [
        "#1.จงเขียนโปรแกรมรับ a ซึ่งเป็นเลขทศนิยม 5 หลักที่มีค่าเป็นบวก (เช่น 3.81024) และ รับ b ซึ่งเป็นเลขทศนิยม 5 หลักที่มีค่าเป็นลบ (เช่น -4.11024) จากนั้นหาผลลัพธ์ตามข้อ 1.1 -1.4"
      ],
      "metadata": {
        "id": "HHczcenyacNk"
      },
      "execution_count": 2,
      "outputs": []
    },
    {
      "cell_type": "code",
      "source": [
        "#1.1  แสดงผลลัพธ์การปัดเศษเลขทศนิยมของเลข a ที่รับเข้ามา ให้มีเลขทศนิยม 2 หลัก\n",
        "a = float(input())\n",
        "b = float(input())\n",
        "print(\"ผลลัพท์การปัดเศษ :\",round(a,2))\n",
        "#1.2 แสดงผลลัพธ์การหาค่าสัมบูรณ์ของเลข b ที่รับเข้ามา และให้มีเลขทศนิยม 4 หลัก\n",
        "import math\n",
        "print(\"ค่าสัมบูรณ์ : {:.2f}\".format(abs(b)))\n",
        "#1.3 แสดงผลลัพธ์การหาค่า floor ของ b (หา  ⌊ b ⌋ )\n",
        "print(\"floor function :\",math.floor(b))\n",
        "#1.4 แสดงผลลัพธ์การหาค่า ceil ของ a (หา  ⌈ a ⌉ )\n",
        "print(\"ceil function\",math.ceil(a))"
      ],
      "metadata": {
        "colab": {
          "base_uri": "https://localhost:8080/"
        },
        "id": "d8X8o2NHafgh",
        "outputId": "0eb5b68c-a591-488f-f3c6-f46c01a5bee1"
      },
      "execution_count": 4,
      "outputs": [
        {
          "output_type": "stream",
          "name": "stdout",
          "text": [
            "5.61712\n",
            "-3.47123\n",
            "ผลลัพท์การปัดเศษ : 5.62\n",
            "ค่าสัมบูรณ์ : 3.47\n",
            "floor function : -4\n",
            "ceil function 6\n"
          ]
        }
      ]
    },
    {
      "cell_type": "code",
      "source": [
        "# 2.จงเขียนฟังก์ชั่นชื่อ divideset(d) เพื่อสร้างเซตตัวเลขที่มีคุณสมบัติหารลงตัวในช่วงเลข 1 ถึง 20 โดยรับค่า argument d\n",
        "#(เมื่่อ d คือค่าของตัวหารที่ต้องการ) เช่น divideset(2) จะทำการเรียกฟังก์ชั่นในการสร้างเซตของจำนวนคู่ (จำนวนที่หารด้วย 2 ลงตัว) ในช่วงตัวเลข 1 ถึง 20 divideset(3)\n",
        "#จะทำการเรียกฟังก์ชั่นในการสร้างเซตของจำนวนที่หารด้วย 3 ลงตัว ในช่วงตัวเลข 1 ถึง 20 divideset(4) จะทำการเรียกฟังก์ชั่นในการสร้างเซตของจำนวนที่หารด้วย 4 ลงตัว ในช่วงตัวเลข 1 ถึง 20 divideset(5)\n",
        "# จะทำการเรียกฟังก์ชั่นในการสร้างเซตของจำนวนที่หารด้วย 5 ลงตัว ในช่วงตัวเลข 1 ถึง 20\n",
        "\n",
        "def divideset(d):\n",
        "  b =set()\n",
        "  for i in range(1,21):\n",
        "    if i%d==0:\n",
        "      b.add(i)\n",
        "  return b\n"
      ],
      "metadata": {
        "id": "sPywbVprb1XK"
      },
      "execution_count": 10,
      "outputs": []
    },
    {
      "cell_type": "code",
      "source": [
        "print(\"set A :\",divideset(2))\n",
        "print('set B :',divideset(3))\n",
        "print('set C :',divideset(4))\n",
        "print('set D :',divideset(5))\n",
        "A = divideset(2)\n",
        "B = divideset(3)\n",
        "C = divideset(4)\n",
        "D = divideset(5)"
      ],
      "metadata": {
        "colab": {
          "base_uri": "https://localhost:8080/"
        },
        "id": "-uHO1Ulqcmq6",
        "outputId": "534ebf26-e06c-4314-eabf-740dd730e4d1"
      },
      "execution_count": 31,
      "outputs": [
        {
          "output_type": "stream",
          "name": "stdout",
          "text": [
            "set A : {2, 4, 6, 8, 10, 12, 14, 16, 18, 20}\n",
            "set B : {3, 6, 9, 12, 15, 18}\n",
            "set C : {4, 8, 12, 16, 20}\n",
            "set D : {10, 20, 5, 15}\n"
          ]
        }
      ]
    },
    {
      "cell_type": "code",
      "source": [
        "#2.2 สร้างฟังก์ชั่นชื่อ IncExc(set1,set2) : รับค่า argument set1 และ set2 คือเซตที่ต้องการนำมาหาค่าของ |set1  ∪  set2| ตามหลักการรวมเข้าตัดออกโดยที่ |set1  ∪  set2| = |set1|+|set2|-|set1  ∩  set2|\n",
        "import math\n",
        "def IncExc(set1,set2):\n",
        "  E = set1.union(set2)\n",
        "  e = len(E)\n",
        "  return e\n",
        "'''\n",
        "def IncExc(set1,set2):\n",
        "  return len(set1) + len(set2) - len(set1&set2)\n",
        "'''\n",
        "#2.3 จงหาค่าของ |A  ∪  B| โดยเรียกใช้ฟังก์ชั่น IncExc(A,B)\n",
        "IncExc(A,B)"
      ],
      "metadata": {
        "colab": {
          "base_uri": "https://localhost:8080/"
        },
        "id": "2XP_orYidBXx",
        "outputId": "f26b0926-c48a-497c-da24-fa74e5f40976"
      },
      "execution_count": 32,
      "outputs": [
        {
          "output_type": "execute_result",
          "data": {
            "text/plain": [
              "13"
            ]
          },
          "metadata": {},
          "execution_count": 32
        }
      ]
    },
    {
      "cell_type": "code",
      "source": [
        "#2.4 จงหาค่าของ |B  ∪  C| โดยเรียกใช้ฟังก์ชั่น IncExc(B,C)\n",
        "IncExc(B,C)"
      ],
      "metadata": {
        "colab": {
          "base_uri": "https://localhost:8080/"
        },
        "id": "IhQypQL7dsS6",
        "outputId": "ff7722a5-896d-4d1d-f4d8-7cc4b98095c4"
      },
      "execution_count": 33,
      "outputs": [
        {
          "output_type": "execute_result",
          "data": {
            "text/plain": [
              "10"
            ]
          },
          "metadata": {},
          "execution_count": 33
        }
      ]
    },
    {
      "cell_type": "code",
      "source": [
        "#2.5 จงหาค่าของ |(A-B)  ∪  (C-D)| โดยเรียกใช้ฟังก์ชั่น IncExc(A-B,C-D)\n",
        "IncExc(A-B,C-D)"
      ],
      "metadata": {
        "colab": {
          "base_uri": "https://localhost:8080/"
        },
        "id": "bq4nG8hUfb-L",
        "outputId": "48808d34-d02c-4706-fe8c-6d176ea85c78"
      },
      "execution_count": 23,
      "outputs": [
        {
          "output_type": "execute_result",
          "data": {
            "text/plain": [
              "8"
            ]
          },
          "metadata": {},
          "execution_count": 23
        }
      ]
    },
    {
      "cell_type": "code",
      "source": [
        "#3.จงสร้างฟังก์ชัน f(x) = x 2 +1 โดยจะส่งผลลัพธ์กลับไป เมื่อ x คือจำนวนเต็มที่รับมาจากแป้นพิมพ์\n",
        "def f(x):\n",
        "  y = x**2 + 1\n",
        "  return y\n",
        "f(3)"
      ],
      "metadata": {
        "colab": {
          "base_uri": "https://localhost:8080/"
        },
        "id": "Ek9y7L1rfpZB",
        "outputId": "e41de1a7-2e6a-422b-d576-34d56933d8ba"
      },
      "execution_count": 25,
      "outputs": [
        {
          "output_type": "execute_result",
          "data": {
            "text/plain": [
              "10"
            ]
          },
          "metadata": {},
          "execution_count": 25
        }
      ]
    },
    {
      "cell_type": "code",
      "source": [
        "#3.1 จงสร้างฟังก์ชัน g(x) = 3(x+5) โดยจะส่งผลลัพธ์กลับไป เมื่อ x คือค่าที่รับมาจากแป้นพิมพ์\n",
        "def g(x):\n",
        "  y = 3*(x+5)\n",
        "  return y\n",
        "g(2)"
      ],
      "metadata": {
        "colab": {
          "base_uri": "https://localhost:8080/"
        },
        "id": "cLfCayGjf5vB",
        "outputId": "23c2e02d-bd95-49fc-ca2f-6af8b4913b60"
      },
      "execution_count": 27,
      "outputs": [
        {
          "output_type": "execute_result",
          "data": {
            "text/plain": [
              "21"
            ]
          },
          "metadata": {},
          "execution_count": 27
        }
      ]
    },
    {
      "cell_type": "code",
      "source": [
        "#3.2 รับค่าจำนวนเต็ม x 1 ค่าจากผู้ใช้ผ่านหน้าจอ และแสดงค่าของ g(f(x)) , f(g(x)) ออกทางหน้าจอ\n",
        "a = int(input())\n",
        "print('g(f(a)) :',g(f(a)))\n",
        "print('f(g(a)) :',f(g(a)))"
      ],
      "metadata": {
        "colab": {
          "base_uri": "https://localhost:8080/"
        },
        "id": "tauSXDP8gHeh",
        "outputId": "953ec2e7-2ffa-413f-ea29-f13a4f6972c6"
      },
      "execution_count": 34,
      "outputs": [
        {
          "output_type": "stream",
          "name": "stdout",
          "text": [
            "2\n",
            "g(f(a)) : 30\n",
            "f(g(a)) : 442\n"
          ]
        }
      ]
    },
    {
      "cell_type": "code",
      "source": [
        "#3.3 หาค่าของ g^4 (x) แสดงผลออกทางหน้าจอ\n",
        "print('g^4(a) :',g(g(g(g(a)))))"
      ],
      "metadata": {
        "colab": {
          "base_uri": "https://localhost:8080/"
        },
        "id": "gpakk6AxgaXx",
        "outputId": "fad6a603-2ad4-450e-aa7f-b186a107c20f"
      },
      "execution_count": 36,
      "outputs": [
        {
          "output_type": "stream",
          "name": "stdout",
          "text": [
            "g^4(a) : 762\n"
          ]
        }
      ]
    }
  ]
}