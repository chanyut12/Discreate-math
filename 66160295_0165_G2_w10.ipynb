{
  "nbformat": 4,
  "nbformat_minor": 0,
  "metadata": {
    "colab": {
      "provenance": [],
      "include_colab_link": true
    },
    "kernelspec": {
      "name": "python3",
      "display_name": "Python 3"
    },
    "language_info": {
      "name": "python"
    }
  },
  "cells": [
    {
      "cell_type": "markdown",
      "metadata": {
        "id": "view-in-github",
        "colab_type": "text"
      },
      "source": [
        "<a href=\"https://colab.research.google.com/github/chanyut12/Discreate-math/blob/main/66160295_0165_G2_w10.ipynb\" target=\"_parent\"><img src=\"https://colab.research.google.com/assets/colab-badge.svg\" alt=\"Open In Colab\"/></a>"
      ]
    },
    {
      "cell_type": "markdown",
      "metadata": {
        "id": "SzRp5aU1at9G"
      },
      "source": [
        "ให้นิสิต เลือกเมนู **File-->Save a copy in drive** เพื่อคัดลอกไฟล์ไปไว้ในไดร์ฟของนิสิตก่อน และเปลี่ยนชื่อไฟล์เป็น **รหัสนิสิต_G2_week10** ค่ะ\n",
        "\n",
        "\n",
        "1. จงเขียนฟังก์ชั่นแบบเรียกใช้ตนเองชื่อ sum_r(n) เพื่อหาค่า $\\displaystyle\\sum_{i=1}^{n} i$   เมื่อ n เป็นจำนวนเต็มบวก และทดลองรับค่า n จากผู้ใช้ และตรวจสอบผลลัพธ์ที่ได้\n",
        "เมื่อ\n",
        "\n",
        "Base case คือ $\\displaystyle\\sum_{i=1}^{1} i$ = 1 และ\n",
        "\n",
        "Recursive part คือ $\\displaystyle\\sum_{i=1}^{n} i$ = $\\displaystyle\\sum_{i=1}^{n-1} i$ + n\n",
        "\n",
        "2. จงเขียนฟังก์ชั่นแบบเรียกใช้ตนเองชื่อ sum_r1(n1,n2) เพื่อหาค่า $\\displaystyle\\sum_{i=n1}^{n2} i$   เมื่อ n1 และ n2 เป็นจำนวนเต็มบวก และทดลองรับค่า n1 และ n2 จากผู้ใช้ และตรวจสอบผลลัพธ์ที่ได้ เมื่อ\n",
        "เมื่อ\n",
        "\n",
        "Base case คือ $\\displaystyle\\sum_{i=n1}^{n1} i$ = $n1$ และ\n",
        "\n",
        "Recursive part คือ $\\displaystyle\\sum_{i=n1}^{n2} i$ = $\\displaystyle\\sum_{i=n1}^{(n2)-1} i$ + $n2$\n",
        "\n",
        "3. จงเขียนฟังก์ชั่นแบบเรียกใช้ตนเองชื่อ sum_r2(n1,n2) เพื่อหาค่า $\\displaystyle\\sum_{i=n1}^{n2} i^2$   เมื่อ n1 และ n2 เป็นจำนวนเต็มบวก และทดลองรับค่า n1 และ n2 จากผู้ใช้ และตรวจสอบผลลัพธ์ที่ได้ เมื่อ\n",
        "\n",
        "Base case คือ $\\displaystyle\\sum_{i=n1}^{n1} i^2$ = $(n1)^2$ และ\n",
        "\n",
        "Recursive part คือ $\\displaystyle\\sum_{i=n1}^{n2} i^2$ = $\\displaystyle\\sum_{i=n1}^{(n2)-1} i^2$ + $(n2)^2$\n",
        "\n",
        "\n",
        "4. จงเขียนฟังก์ชั่นแบบเรียกใช้ตนเองชื่อ mul_3(n) เพื่อหาค่า A$_n$ เมื่อ A$_n$ = 3$\\times$n   เมื่อ n เป็นจำนวนเต็ม และทดลองรับค่า n จากผู้ใช้ และตรวจสอบผลลัพธ์ที่ได้ เมื่อ\n",
        "\n",
        "Base case คือ A$_0$ = 0 และ\n",
        "\n",
        "Recursive part คือ A$_n$ = A$_{n-1}+3$\n",
        "\n",
        "5. จงเขียนโปรแกรมแบบเรียกใช้ตนเองชื่อ M(n,p)ของการหาจำนวนเงินฝากในบัญชี 100 บาท เมื่อเวลาผ่านไป  n ปี ( M$_n$ ) ดอกเบี้ยร้อยละ p\n",
        "โดยให้ทำการรับค่าต่างๆจากหน้าจอ ได้แก่\n",
        "\n",
        "n แทน จำนวนปีที่ต้องการฝากเงิน\n",
        "\n",
        "p แทน อัตราดอกเบี้ยต่อปี\n",
        "\n",
        "**ตัวอย่าง** เมื่อนำเงิน 100 บาทไปฝากเป็นระยะเวลา(n) 3 ปี ดอกเบี้ย(p)ร้อยละ 10 ต่อปี\n",
        "\n",
        "ดังนั้นการหาจำนวนเงินในบัญชีเมื่อเวลาผ่านไป 3 ปี ทำได้ดังนี้\n",
        "M$_0$ = 100\n",
        "\n",
        "M$_1$ = 100 + $(\\frac{10}{100})$100 = 100 + 10 = 110\n",
        "\n",
        "M$_2$ = 110 + $(\\frac{10}{100})$110 = 110 + 11 = 121\n",
        "\n",
        "M$_3$ = 121 + $(\\frac{10}{100})$121 = 121 + 12.1 = 133.1\n",
        "\n",
        "ดังนั้น\tBase case คือ M$_0$ = 100\n",
        "\n",
        "Recursive part คือ M$_n$ = M$_{n-1}$+ $(\\frac{10}{100})$M$_{n-1}$ = 1.1M$_{n-1}$\n",
        "\n",
        "\n"
      ]
    },
    {
      "cell_type": "code",
      "source": [
        "#ชื่อ.....................รหัส............"
      ],
      "metadata": {
        "id": "RGm03Llta9dn"
      },
      "execution_count": null,
      "outputs": []
    },
    {
      "cell_type": "code",
      "source": [
        "#1\n",
        "def sum_r(n):\n",
        "  if n==1:\n",
        "    return n\n",
        "  else:\n",
        "    return sum_r(n-1) + n\n",
        "\n",
        "n = int(input())\n",
        "sum_r(n)"
      ],
      "metadata": {
        "colab": {
          "base_uri": "https://localhost:8080/"
        },
        "id": "N_Qfd1FKgVtH",
        "outputId": "f271bc7d-b57c-47d4-8154-b57b50e47d0c"
      },
      "execution_count": 4,
      "outputs": [
        {
          "name": "stdout",
          "output_type": "stream",
          "text": [
            "5\n"
          ]
        },
        {
          "output_type": "execute_result",
          "data": {
            "text/plain": [
              "15"
            ]
          },
          "metadata": {},
          "execution_count": 4
        }
      ]
    },
    {
      "cell_type": "code",
      "source": [
        "#2\n",
        "def sum_r1(n1, n2):\n",
        "    if n1 > n2:\n",
        "        return 0\n",
        "    return sum_r1(n1,n2-1) + n2\n",
        "n1  = int(input())\n",
        "n2  = int(input())\n",
        "\n",
        "sum_r1(n1,n2)"
      ],
      "metadata": {
        "colab": {
          "base_uri": "https://localhost:8080/"
        },
        "id": "nwGZOMHdhZ4W",
        "outputId": "88481432-6ab1-4935-d36c-f701c1ec4c3a"
      },
      "execution_count": 11,
      "outputs": [
        {
          "name": "stdout",
          "output_type": "stream",
          "text": [
            "2\n",
            "4\n"
          ]
        },
        {
          "output_type": "execute_result",
          "data": {
            "text/plain": [
              "9"
            ]
          },
          "metadata": {},
          "execution_count": 11
        }
      ]
    },
    {
      "cell_type": "code",
      "source": [
        "#3\n",
        "def sum_r2(n1,n2):\n",
        "  if n1**2 > n2**2:\n",
        "    return 0\n",
        "  return sum_r2(n1,n2-1) + n2**2\n",
        "n1 = int(input())\n",
        "n2 = int(input())\n",
        "\n",
        "sum_r2(n1,n2)"
      ],
      "metadata": {
        "colab": {
          "base_uri": "https://localhost:8080/"
        },
        "id": "UfbMhSQHi_-f",
        "outputId": "6317a955-f7cc-4adc-dbbf-9671ab33b3d7"
      },
      "execution_count": 12,
      "outputs": [
        {
          "name": "stdout",
          "output_type": "stream",
          "text": [
            "2\n",
            "3\n"
          ]
        },
        {
          "output_type": "execute_result",
          "data": {
            "text/plain": [
              "13"
            ]
          },
          "metadata": {},
          "execution_count": 12
        }
      ]
    },
    {
      "cell_type": "code",
      "source": [
        "#4\n",
        "def mul_3(n):\n",
        "  if n==0:\n",
        "    return n\n",
        "  return 3*n\n",
        "\n",
        "n = int(input())\n",
        "\n",
        "mul_3(n)"
      ],
      "metadata": {
        "colab": {
          "base_uri": "https://localhost:8080/"
        },
        "id": "v8qGvMdQjsge",
        "outputId": "86a26c35-d476-40af-bb6d-8cedafb95102"
      },
      "execution_count": 13,
      "outputs": [
        {
          "name": "stdout",
          "output_type": "stream",
          "text": [
            "2\n"
          ]
        },
        {
          "output_type": "execute_result",
          "data": {
            "text/plain": [
              "6"
            ]
          },
          "metadata": {},
          "execution_count": 13
        }
      ]
    },
    {
      "cell_type": "code",
      "source": [
        "#5\n",
        "a = 100\n",
        "def M(n,p):\n",
        "  if n==0:\n",
        "    return a\n",
        "  return ((100+p)/100) * M(n-1,p)\n",
        "\n",
        "n = int(input())\n",
        "p = int(input())\n",
        "\n",
        "print(int(M(n,p)))\n",
        "print(M(n,p))"
      ],
      "metadata": {
        "colab": {
          "base_uri": "https://localhost:8080/"
        },
        "id": "IbcyyQIykgwn",
        "outputId": "50faa465-8a37-4a3e-9fe3-6e8932b3fb46"
      },
      "execution_count": 19,
      "outputs": [
        {
          "output_type": "stream",
          "name": "stdout",
          "text": [
            "3\n",
            "10\n",
            "133\n",
            "133.10000000000005\n"
          ]
        }
      ]
    }
  ]
}