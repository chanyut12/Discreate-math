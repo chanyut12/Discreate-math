{
  "nbformat": 4,
  "nbformat_minor": 0,
  "metadata": {
    "colab": {
      "provenance": [],
      "include_colab_link": true
    },
    "kernelspec": {
      "name": "python3",
      "display_name": "Python 3"
    },
    "language_info": {
      "name": "python"
    }
  },
  "cells": [
    {
      "cell_type": "markdown",
      "metadata": {
        "id": "view-in-github",
        "colab_type": "text"
      },
      "source": [
        "<a href=\"https://colab.research.google.com/github/chanyut12/Discreate-math/blob/main/66160295_0165_G2_w9.ipynb\" target=\"_parent\"><img src=\"https://colab.research.google.com/assets/colab-badge.svg\" alt=\"Open In Colab\"/></a>"
      ]
    },
    {
      "cell_type": "markdown",
      "source": [
        "ให้นิสิต เลือกเมนู **File-->Save a copy in drive** เพื่อคัดลอกไฟล์ไปไว้ในไดร์ฟของนิสิตก่อน และเปลี่ยนชื่อไฟล์เป็น **รหัสนิสิต_G2_week9**  โดยให้ทำ 1 ข้อ ต่อ 1 code cell\n",
        "\n",
        "\n",
        "1. จงเขียนฟังก์ชั่นชื่อ sum_1(n) เพื่อหาค่า $\\displaystyle\\sum_{i=1}^{n} (5i^2+3i+2)$   เมื่อ n เป็นจำนวนเต็มบวก และทดลองรับค่า n จากผู้ใช้ และตรวจสอบผลลัพธ์ที่ได้\n",
        "\n",
        "2. จงเขียนฟังก์ชั่นชื่อ sum_2(n) เพื่อหาค่า $\\displaystyle\\sum_{i=1}^{n} (-3)^i$   เมื่อ n เป็นจำนวนเต็มบวก และทดลองรับค่า n จากผู้ใช้ และตรวจสอบผลลัพธ์ที่ได้\n",
        "\n",
        "3. จงเขียนฟังก์ชั่นชื่อ sum_3(n1,n2) เพื่อหาค่า $\\displaystyle\\sum_{i=n1}^{n2} i$   เมื่อ n เป็นจำนวนเต็มบวก และทดลองรับค่า n1 และ n2 จากผู้ใช้ และตรวจสอบผลลัพธ์ที่ได้\n",
        "\n",
        "4. จงเขียนฟังก์ชั่นชื่อ sum_4(n,m) เพื่อหาค่า $\\displaystyle\\sum_{i=0}^{n}$$\\displaystyle\\sum_{j=0}^{m} ij$   เมื่อ n และ m เป็นจำนวนเต็มบวก และทดลองรับค่า n และ m จากผู้ใช้ และตรวจสอบผลลัพธ์ที่ได้\n",
        "\n",
        "5. จงเขียนฟังก์ชั่นชื่อ sum_5(n,m) เพื่อหาค่า $\\displaystyle\\sum_{i=0}^{n}$$\\displaystyle\\sum_{j=0}^{m} (2i+3j)$   เมื่อ n และ m เป็นจำนวนเต็มบวก และทดลองรับค่า n และ m จากผู้ใช้ และตรวจสอบผลลัพธ์ที่ได้\n",
        "\n",
        "6. จงทดสอบว่า สำหรับจำนวนเต็มใด ๆ n ≥ 1 จะได้ว่า $\\displaystyle\\sum_{i=1}^{n} (2i-1)^2 = \\frac{n(2n-1)(2n+1)}{3}$\n",
        "\n",
        "7. จงทดสอบว่า  $\\displaystyle\\sum_{i=1}^{n} i^3 = ((\\frac{n}{2})(n + 1))^2$   เมื่อ n≥ 1\n"
      ],
      "metadata": {
        "id": "Seu75qKISb18"
      }
    },
    {
      "cell_type": "code",
      "execution_count": null,
      "metadata": {
        "id": "X7WgNh8hwdGs"
      },
      "outputs": [],
      "source": [
        "#ชื่อ นายชาญยุทธ ลิสวัสดิ์ รหัส.66160295"
      ]
    },
    {
      "cell_type": "code",
      "source": [
        "#1\n",
        "def sum_1(n):\n",
        "  s = 0\n",
        "  for i in range(1,n+1):\n",
        "    s = s + (5*(i**2) + 3*i + 2)\n",
        "  return s\n",
        "n = int(input())\n",
        "print(\"sum =\", sum_1(n))\n"
      ],
      "metadata": {
        "id": "PG9DvRVEcBlf",
        "outputId": "76e6e25b-5c55-4fca-f22a-b55d6c7b38d6",
        "colab": {
          "base_uri": "https://localhost:8080/"
        }
      },
      "execution_count": 6,
      "outputs": [
        {
          "output_type": "stream",
          "name": "stdout",
          "text": [
            "3\n",
            "sum  94\n"
          ]
        }
      ]
    },
    {
      "cell_type": "code",
      "source": [
        "#2\n",
        "def sum_2(n):\n",
        "  s = 0\n",
        "  for i in range(1,n+1):\n",
        "    s = s +(-3)**i\n",
        "  return s\n",
        "\n",
        "print(\"sum = \",sum_2(n))"
      ],
      "metadata": {
        "id": "SrJiHczmcZve",
        "outputId": "2df0aad0-f498-41cb-aaf2-5fa417fc3980",
        "colab": {
          "base_uri": "https://localhost:8080/"
        }
      },
      "execution_count": null,
      "outputs": [
        {
          "output_type": "stream",
          "name": "stdout",
          "text": [
            "sum =  -183\n"
          ]
        }
      ]
    },
    {
      "cell_type": "code",
      "source": [
        "#3\n",
        "def sum_3(n1,n2):\n",
        "  s = 0\n",
        "  for i in  range(n1,n2+1):\n",
        "    s = s + i\n",
        "  return s\n",
        "n1 = int(input())\n",
        "n2 = int(input())\n",
        "print(\"sum  = \",sum_3(n1,n2))"
      ],
      "metadata": {
        "id": "jVOqsdhrdE-Q",
        "outputId": "2c55224e-2b18-48ac-cadd-7d6c81549879",
        "colab": {
          "base_uri": "https://localhost:8080/"
        }
      },
      "execution_count": null,
      "outputs": [
        {
          "output_type": "stream",
          "name": "stdout",
          "text": [
            "2\n",
            "9\n",
            "sum  =  44\n"
          ]
        }
      ]
    },
    {
      "cell_type": "code",
      "source": [
        "#4\n",
        "def sum_4(n,m):\n",
        "  s = 0\n",
        "  for i in range(n+1):\n",
        "    for j in range(m+1):\n",
        "      s = s + (i*j)\n",
        "  return s\n",
        "n = int(input())\n",
        "m = int(input())\n",
        "print(\"sum\" , sum_4(n,m))"
      ],
      "metadata": {
        "id": "b91qoGkGdbuV",
        "outputId": "a9993ab2-27cb-4553-8a04-a789f119d286",
        "colab": {
          "base_uri": "https://localhost:8080/"
        }
      },
      "execution_count": 12,
      "outputs": [
        {
          "output_type": "stream",
          "name": "stdout",
          "text": [
            "3\n",
            "4\n",
            "sum 60\n"
          ]
        }
      ]
    },
    {
      "cell_type": "code",
      "source": [
        "#5\n",
        "def sum_5(n,m):\n",
        "  s = 0\n",
        "  for i in range(n+1):\n",
        "    for j in range(m+1):\n",
        "      s = s + 2*i + 3*j\n",
        "  return s\n",
        "\n",
        "n = int(input())\n",
        "m = int(input())\n",
        "print(\"sum = \", sum_5(n,m) )\n"
      ],
      "metadata": {
        "id": "_g_U-fsEd_E2",
        "outputId": "e1ab0b73-b71b-46b9-837b-9ad8ce617024",
        "colab": {
          "base_uri": "https://localhost:8080/"
        }
      },
      "execution_count": 4,
      "outputs": [
        {
          "output_type": "stream",
          "name": "stdout",
          "text": [
            "2\n",
            "2\n",
            "sum =  45\n"
          ]
        }
      ]
    },
    {
      "cell_type": "code",
      "source": [
        "#6\n",
        "def s2(n):\n",
        "  s = 0\n",
        "  for i in range(1,n+1):\n",
        "    s = s + (2*i-1)**2\n",
        "  return s\n",
        "n = int(input())\n",
        "a = ((n*(2*n-1)*(2*n+1))/3)\n",
        "print(\"sum of (2n-1)^i = \" , s2(n))\n",
        "print(\"sum of [n(2n-1)(2n+1)]/3  = \",a)\n",
        "\n",
        "if s2(n) == a:\n",
        "  print(True)\n",
        "else:\n",
        "  print(False)\n"
      ],
      "metadata": {
        "colab": {
          "base_uri": "https://localhost:8080/"
        },
        "id": "dIYLKzK-g6b2",
        "outputId": "0072ecb0-84e3-4658-d8d8-ce747e8199ef"
      },
      "execution_count": 9,
      "outputs": [
        {
          "output_type": "stream",
          "name": "stdout",
          "text": [
            "3\n",
            "sum of (2n-1)^i =  35\n",
            "sum of [n(2n-1)(2n+1)]/3  =  35.0\n",
            "True\n"
          ]
        }
      ]
    },
    {
      "cell_type": "code",
      "source": [
        "#7\n",
        "def s3(n):\n",
        "  s = 0\n",
        "  for i in range(1,n+1):\n",
        "    s = s + i**3\n",
        "  return s\n",
        "n = int(input())\n",
        "b = ((n/2)*(n+1))**2\n",
        "print(\"sum of (2n-1)^i = \" , s3(n))\n",
        "print(\"sum of [(n/2)(n+1)]^2  = \",b)\n",
        "if s3(n) == b:\n",
        "  print(True)\n",
        "else:\n",
        "  print(False)"
      ],
      "metadata": {
        "colab": {
          "base_uri": "https://localhost:8080/"
        },
        "id": "t00NiWmZhHjW",
        "outputId": "75ace07f-c8e0-4bbb-c9cf-021ebd312a85"
      },
      "execution_count": 11,
      "outputs": [
        {
          "output_type": "stream",
          "name": "stdout",
          "text": [
            "3\n",
            "sum of (2n-1)^i =  36\n",
            "sum of [(n/2)(n+1)]^2  =  36.0\n",
            "True\n"
          ]
        }
      ]
    }
  ]
}